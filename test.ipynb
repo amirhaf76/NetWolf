{
 "cells": [
  {
   "cell_type": "code",
   "execution_count": 2,
   "outputs": [
    {
     "name": "stdout",
     "text": [
      "import library\n"
     ],
     "output_type": "stream"
    }
   ],
   "source": [
    "import netwolf_lib as nfb\n",
    "import os\n",
    "import socket\n",
    "from math import ceil, log2\n",
    "import threading\n",
    "from time import sleep\n",
    "from concurrent.futures import ThreadPoolExecutor\n",
    "print('import library')"
   ],
   "metadata": {
    "collapsed": false,
    "pycharm": {
     "name": "#%%\n",
     "is_executing": false
    }
   }
  },
  {
   "cell_type": "code",
   "execution_count": 14,
   "outputs": [
    {
     "name": "stdout",
     "text": [
      "timer out:\n\t2\t4\ttime out\nFalse\nAutomatically created module for IPython interactive environment\n"
     ],
     "output_type": "stream"
    }
   ],
   "source": [
    "test = True\n",
    "def timer_out(*args):\n",
    "    global test\n",
    "    print('timer out:')\n",
    "    for i in args:\n",
    "        print('\\t'+ str(i), end='')\n",
    "    print()\n",
    "    test = False\n",
    "publish_time_of_directory = .05\n",
    "t = threading.Timer(publish_time_of_directory, \n",
    "                    timer_out, [2, 4, 'time out'])\n",
    "t.start()\n",
    "\n",
    "sleep(.1)\n",
    "\n",
    "print(t.isAlive())\n",
    "\n",
    "print()\n",
    "sleep(.1)\n",
    "    "
   ],
   "metadata": {
    "collapsed": false,
    "pycharm": {
     "name": "#%%\n",
     "is_executing": false
    }
   }
  },
  {
   "cell_type": "code",
   "execution_count": 1,
   "outputs": [
    {
     "traceback": [
      "\u001b[1;31m---------------------------------------------------------------------------\u001b[0m",
      "\u001b[1;31mNameError\u001b[0m                                 Traceback (most recent call last)",
      "\u001b[1;32m<ipython-input-1-f836722d2195>\u001b[0m in \u001b[0;36m<module>\u001b[1;34m\u001b[0m\n\u001b[0;32m      5\u001b[0m         \u001b[0mprint\u001b[0m\u001b[1;33m(\u001b[0m\u001b[1;34m'\\t'\u001b[0m\u001b[1;33m+\u001b[0m \u001b[0mstr\u001b[0m\u001b[1;33m(\u001b[0m\u001b[0mi\u001b[0m\u001b[1;33m)\u001b[0m\u001b[1;33m,\u001b[0m \u001b[0mend\u001b[0m\u001b[1;33m=\u001b[0m\u001b[1;34m''\u001b[0m\u001b[1;33m)\u001b[0m\u001b[1;33m\u001b[0m\u001b[0m\n\u001b[0;32m      6\u001b[0m \u001b[1;33m\u001b[0m\u001b[0m\n\u001b[1;32m----> 7\u001b[1;33m \u001b[0mt\u001b[0m \u001b[1;33m=\u001b[0m \u001b[0mthreading\u001b[0m\u001b[1;33m.\u001b[0m\u001b[0mThread\u001b[0m\u001b[1;33m(\u001b[0m\u001b[0mtarget\u001b[0m\u001b[1;33m=\u001b[0m\u001b[0mtimer_out\u001b[0m\u001b[1;33m,\u001b[0m \u001b[0margs\u001b[0m\u001b[1;33m=\u001b[0m\u001b[1;33m(\u001b[0m\u001b[1;34m'prid'\u001b[0m\u001b[1;33m,\u001b[0m\u001b[1;33m)\u001b[0m\u001b[1;33m)\u001b[0m\u001b[1;33m\u001b[0m\u001b[0m\n\u001b[0m\u001b[0;32m      8\u001b[0m \u001b[0mt\u001b[0m\u001b[1;33m.\u001b[0m\u001b[0mstart\u001b[0m\u001b[1;33m(\u001b[0m\u001b[1;33m)\u001b[0m\u001b[1;33m\u001b[0m\u001b[0m\n\u001b[0;32m      9\u001b[0m \u001b[0msleep\u001b[0m\u001b[1;33m(\u001b[0m\u001b[1;36m0.5\u001b[0m\u001b[1;33m)\u001b[0m\u001b[1;33m\u001b[0m\u001b[0m\n",
      "\u001b[1;31mNameError\u001b[0m: name 'threading' is not defined"
     ],
     "ename": "NameError",
     "evalue": "name 'threading' is not defined",
     "output_type": "error"
    }
   ],
   "source": [
    "def timer_out(*args):\n",
    "    global test\n",
    "    print('timer out:')\n",
    "    for i in args:\n",
    "        print('\\t'+ str(i), end='')\n",
    "        \n",
    "t = threading.Thread(target=timer_out, args=('prid',))\n",
    "t.start()\n",
    "sleep(0.5)"
   ],
   "metadata": {
    "collapsed": false,
    "pycharm": {
     "name": "#%%\n",
     "is_executing": false
    }
   }
  },
  {
   "cell_type": "code",
   "execution_count": 10,
   "outputs": [
    {
     "name": "stdout",
     "text": [
      "hello\nhello\nhello\nhello\nhello\nHelp on class ThreadPoolExecutor in module concurrent.futures.thread:\n\nclass ThreadPoolExecutor(concurrent.futures._base.Executor)\n |  ThreadPoolExecutor(max_workers=None, thread_name_prefix='', initializer=None, initargs=())\n |  \n |  This is an abstract base class for concrete asynchronous executors.\n |  \n |  Method resolution order:\n |      ThreadPoolExecutor\n |      concurrent.futures._base.Executor\n |      builtins.object\n |  \n |  Methods defined here:\n |  \n |  __init__(self, max_workers=None, thread_name_prefix='', initializer=None, initargs=())\n |      Initializes a new ThreadPoolExecutor instance.\n |      \n |      Args:\n |          max_workers: The maximum number of threads that can be used to\n |              execute the given calls.\n |          thread_name_prefix: An optional name prefix to give our threads.\n |          initializer: An callable used to initialize worker threads.\n |          initargs: A tuple of arguments to pass to the initializer.\n |  \n |  shutdown(self, wait=True)\n |      Clean-up the resources associated with the Executor.\n |      \n |      It is safe to call this method several times. Otherwise, no other\n |      methods can be called after this one.\n |      \n |      Args:\n |          wait: If True then shutdown will not return until all running\n |              futures have finished executing and the resources used by the\n |              executor have been reclaimed.\n |  \n |  submit(self, fn, *args, **kwargs)\n |      Submits a callable to be executed with the given arguments.\n |      \n |      Schedules the callable to be executed as fn(*args, **kwargs) and returns\n |      a Future instance representing the execution of the callable.\n |      \n |      Returns:\n |          A Future representing the given call.\n |  \n |  ----------------------------------------------------------------------\n |  Methods inherited from concurrent.futures._base.Executor:\n |  \n |  __enter__(self)\n |  \n |  __exit__(self, exc_type, exc_val, exc_tb)\n |  \n |  map(self, fn, *iterables, timeout=None, chunksize=1)\n |      Returns an iterator equivalent to map(fn, iter).\n |      \n |      Args:\n |          fn: A callable that will take as many arguments as there are\n |              passed iterables.\n |          timeout: The maximum number of seconds to wait. If None, then there\n |              is no limit on the wait time.\n |          chunksize: The size of the chunks the iterable will be broken into\n |              before being passed to a child process. This argument is only\n |              used by ProcessPoolExecutor; it is ignored by\n |              ThreadPoolExecutor.\n |      \n |      Returns:\n |          An iterator equivalent to: map(func, *iterables) but the calls may\n |          be evaluated out-of-order.\n |      \n |      Raises:\n |          TimeoutError: If the entire result iterator could not be generated\n |              before the given timeout.\n |          Exception: If fn(*args) raises for any values.\n |  \n |  ----------------------------------------------------------------------\n |  Data descriptors inherited from concurrent.futures._base.Executor:\n |  \n |  __dict__\n |      dictionary for instance variables (if defined)\n |  \n |  __weakref__\n |      list of weak references to the object (if defined)\n\n",
      "hello"
     ],
     "output_type": "stream"
    }
   ],
   "source": [
    "help(ThreadPoolExecutor)\n"
   ],
   "metadata": {
    "collapsed": false,
    "pycharm": {
     "name": "#%%\n",
     "is_executing": false
    }
   }
  },
  {
   "cell_type": "code",
   "execution_count": 3,
   "outputs": [
    {
     "name": "stdout",
     "text": [
      "hello\nhello\nhello\nhello\nhello\ndone\n"
     ],
     "output_type": "stream"
    }
   ],
   "source": [
    "class OP(object):\n",
    "    \n",
    "    def __init__(self, num):\n",
    "        self.num = num\n",
    "    def hello(self):\n",
    "        while self.num:\n",
    "            print('hello')\n",
    "            sleep(0.02)\n",
    "        else:\n",
    "            print('done')\n",
    "\n",
    "x = True\n",
    "op = OP(True)\n",
    "t = threading.Thread(target= op.hello,args=[])\n",
    "t.start()\n",
    "sleep(0.1)\n",
    "op.num = False\n",
    "sleep(0.1)"
   ],
   "metadata": {
    "collapsed": false,
    "pycharm": {
     "name": "#%%\n",
     "is_executing": false
    }
   }
  },
  {
   "cell_type": "code",
   "execution_count": 8,
   "outputs": [
    {
     "name": "stdout",
     "text": [
      "{'r': 3, 't': 4, 'y': 9}\n{'r': 32, 't': 4, 'y': 9}\n"
     ],
     "output_type": "stream"
    }
   ],
   "source": [
    "a = {'r': 3, 't': 4}\n",
    "a.update({'y': 9})\n",
    "print(a)\n",
    "a.update({'r': 32})\n",
    "print(a)\n",
    "# print(a)"
   ],
   "metadata": {
    "collapsed": false,
    "pycharm": {
     "name": "#%%\n",
     "is_executing": false
    }
   }
  },
  {
   "cell_type": "code",
   "execution_count": null,
   "outputs": [],
   "source": [
    "\n"
   ],
   "metadata": {
    "collapsed": false,
    "pycharm": {
     "name": "#%%\n"
    }
   }
  }
 ],
 "metadata": {
  "language_info": {
   "codemirror_mode": {
    "name": "ipython",
    "version": 2
   },
   "file_extension": ".py",
   "mimetype": "text/x-python",
   "name": "python",
   "nbconvert_exporter": "python",
   "pygments_lexer": "ipython2",
   "version": "2.7.6"
  },
  "kernelspec": {
   "name": "python3",
   "language": "python",
   "display_name": "Python 3"
  },
  "pycharm": {
   "stem_cell": {
    "cell_type": "raw",
    "source": [],
    "metadata": {
     "collapsed": false
    }
   }
  }
 },
 "nbformat": 4,
 "nbformat_minor": 0
}