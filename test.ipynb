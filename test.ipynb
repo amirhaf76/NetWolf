{
 "cells": [
  {
   "cell_type": "code",
   "execution_count": 29,
   "outputs": [
    {
     "name": "stdout",
     "text": [
      "import library\n"
     ],
     "output_type": "stream"
    }
   ],
   "source": [
    "import netwolf_lib as nfb\n",
    "import os\n",
    "import socket\n",
    "from math import ceil\n",
    "import threading\n",
    "from concurrent.futures import ThreadPoolExecutor\n",
    "print('import library')\n",
    "\n"
   ],
   "metadata": {
    "collapsed": false,
    "pycharm": {
     "name": "#%%\n",
     "is_executing": false
    }
   }
  },
  {
   "cell_type": "code",
   "execution_count": 3,
   "outputs": [],
   "source": [
    "for i in range(-1):\n",
    "    print(i)"
   ],
   "metadata": {
    "collapsed": false,
    "pycharm": {
     "name": "#%%\n",
     "is_executing": false
    }
   }
  },
  {
   "cell_type": "code",
   "execution_count": 7,
   "outputs": [],
   "source": [
    "class AddressIp:\n",
    "\n",
    "    def __init__(self, ip, pn, proxy_ip, proxy_pn):\n",
    "        self.ip = ip\n",
    "        self.pn = pn\n",
    "        self.proxy_ip = proxy_ip\n",
    "        self.proxy_pn = proxy_pn\n",
    "    def __str__(self):\n",
    "        return (f'ip:{self.ip},' + \n",
    "              f'pn:{self.pn},' +\n",
    "              f'proxy_ip:{self.proxy_ip},' +\n",
    "              f'proxy_pn:{self.proxy_pn}')\n",
    "    "
   ],
   "metadata": {
    "collapsed": false,
    "pycharm": {
     "name": "#%%\n",
     "is_executing": false
    }
   }
  },
  {
   "cell_type": "code",
   "execution_count": 12,
   "outputs": [
    {
     "traceback": [
      "\u001b[1;31m---------------------------------------------------------------------------\u001b[0m",
      "\u001b[1;31mKeyError\u001b[0m                                  Traceback (most recent call last)",
      "\u001b[1;32m<ipython-input-12-151ec0265b5b>\u001b[0m in \u001b[0;36m<module>\u001b[1;34m\u001b[0m\n\u001b[0;32m      2\u001b[0m \u001b[0mc\u001b[0m \u001b[1;33m=\u001b[0m\u001b[0mAddressIp\u001b[0m\u001b[1;33m(\u001b[0m\u001b[1;34m'454'\u001b[0m\u001b[1;33m,\u001b[0m \u001b[1;36m4\u001b[0m\u001b[1;33m,\u001b[0m\u001b[1;36m5\u001b[0m\u001b[1;33m,\u001b[0m \u001b[1;36m4\u001b[0m\u001b[1;33m)\u001b[0m\u001b[1;33m\u001b[0m\u001b[0m\n\u001b[0;32m      3\u001b[0m \u001b[0mb\u001b[0m \u001b[1;33m=\u001b[0m\u001b[1;33m{\u001b[0m\u001b[0ma\u001b[0m\u001b[1;33m:\u001b[0m\u001b[1;34m'ehl'\u001b[0m\u001b[1;33m}\u001b[0m\u001b[1;33m\u001b[0m\u001b[0m\n\u001b[1;32m----> 4\u001b[1;33m \u001b[0mprint\u001b[0m\u001b[1;33m(\u001b[0m\u001b[0mb\u001b[0m\u001b[1;33m[\u001b[0m\u001b[0mc\u001b[0m\u001b[1;33m]\u001b[0m\u001b[1;33m)\u001b[0m\u001b[1;33m\u001b[0m\u001b[0m\n\u001b[0m\u001b[0;32m      5\u001b[0m \u001b[0mprint\u001b[0m\u001b[1;33m(\u001b[0m\u001b[0ma\u001b[0m\u001b[1;33m)\u001b[0m\u001b[1;33m\u001b[0m\u001b[0m\n",
      "\u001b[1;31mKeyError\u001b[0m: <__main__.AddressIp object at 0x00000272D6BA2278>"
     ],
     "ename": "KeyError",
     "evalue": "<__main__.AddressIp object at 0x00000272D6BA2278>",
     "output_type": "error"
    }
   ],
   "source": [
    "a = AddressIp('454', 4,5, 4)\n",
    "c =AddressIp('454', 4,5, 4)\n",
    "b ={a:'ehl'}\n",
    "print(b[c])\n",
    "print(a)"
   ],
   "metadata": {
    "collapsed": false,
    "pycharm": {
     "name": "#%%\n",
     "is_executing": false
    }
   }
  },
  {
   "cell_type": "code",
   "execution_count": 18,
   "outputs": [
    {
     "name": "stdout",
     "text": [
      "hi\n"
     ],
     "output_type": "stream"
    }
   ],
   "source": [
    "import socket\n",
    "address = socket.gethostbyname(socket.gethostname())\n",
    "udp_server = socket.socket(socket.AF_INET, socket.SOCK_DGRAM)\n",
    "udp_server.bind((address, 6000))\n",
    "from time import sleep\n",
    "sleep(6)\n",
    "print('hi')\n"
   ],
   "metadata": {
    "collapsed": false,
    "pycharm": {
     "name": "#%%\n",
     "is_executing": false
    }
   }
  }
 ],
 "metadata": {
  "language_info": {
   "codemirror_mode": {
    "name": "ipython",
    "version": 2
   },
   "file_extension": ".py",
   "mimetype": "text/x-python",
   "name": "python",
   "nbconvert_exporter": "python",
   "pygments_lexer": "ipython2",
   "version": "2.7.6"
  },
  "kernelspec": {
   "name": "python3",
   "language": "python",
   "display_name": "Python 3"
  },
  "pycharm": {
   "stem_cell": {
    "cell_type": "raw",
    "source": [],
    "metadata": {
     "collapsed": false
    }
   }
  }
 },
 "nbformat": 4,
 "nbformat_minor": 0
}