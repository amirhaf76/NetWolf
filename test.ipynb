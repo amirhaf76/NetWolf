{
 "cells": [
  {
   "cell_type": "code",
   "execution_count": 39,
   "outputs": [
    {
     "name": "stdout",
     "text": [
      "import library\n"
     ],
     "output_type": "stream"
    }
   ],
   "source": [
    "import netwolf_lib as nfb\n",
    "import os\n",
    "import socket\n",
    "from math import ceil\n",
    "import threading\n",
    "from concurrent.futures import ThreadPoolExecutor\n",
    "print('import library')"
   ],
   "metadata": {
    "collapsed": false,
    "pycharm": {
     "name": "#%%\n",
     "is_executing": false
    }
   }
  },
  {
   "cell_type": "code",
   "execution_count": 38,
   "outputs": [],
   "source": [
    "ENCODE_MODE = 'utf-8'\n",
    "ERROR_ENCODING = 'backslashreplace'\n",
    "\n"
   ],
   "metadata": {
    "collapsed": false,
    "pycharm": {
     "name": "#%%\n",
     "is_executing": false
    }
   }
  },
  {
   "cell_type": "code",
   "execution_count": 32,
   "outputs": [],
   "source": [
    "def extract_directory_message(dir_mes: bytes):\n",
    "\n",
    "    str_meg = dir_mes.decode(ENCODE_MODE, ERROR_ENCODING)\n",
    "    str_list = str_meg.split('|')\n",
    "    res = []\n",
    "    for t in str_list:\n",
    "        temp_list = t.split(',')\n",
    "        if len(temp_list) == 2:\n",
    "            temp_tuple = (temp_list[0].strip(' \\''),\n",
    "                          int(temp_list[1]))\n",
    "            res.append(temp_tuple)\n",
    "\n",
    "        elif len(temp_list) == 4:\n",
    "            temp_tuple = (temp_list[0].strip(' \\''), int(temp_list[1]),\n",
    "                          temp_list[2].strip(' \\''), int(temp_list[3]))\n",
    "            res.append(temp_tuple)\n",
    "        else:\n",
    "            print(\"not found\")\n",
    "\n",
    "    return res\n"
   ],
   "metadata": {
    "collapsed": false,
    "pycharm": {
     "name": "#%%\n",
     "is_executing": false
    }
   }
  },
  {
   "cell_type": "code",
   "execution_count": 21,
   "outputs": [
    {
     "traceback": [
      "\u001b[1;31m---------------------------------------------------------------------------\u001b[0m",
      "\u001b[1;31mTypeError\u001b[0m                                 Traceback (most recent call last)",
      "\u001b[1;32m<ipython-input-21-2c8b57087303>\u001b[0m in \u001b[0;36m<module>\u001b[1;34m\u001b[0m\n\u001b[0;32m      1\u001b[0m \u001b[0md\u001b[0m \u001b[1;33m=\u001b[0m \u001b[0mbytearray\u001b[0m\u001b[1;33m(\u001b[0m\u001b[1;34mb'\\x28\\x56'\u001b[0m\u001b[1;33m)\u001b[0m\u001b[1;33m\u001b[0m\u001b[0m\n\u001b[1;32m----> 2\u001b[1;33m \u001b[0mint\u001b[0m\u001b[1;33m.\u001b[0m\u001b[0mfrom_bytes\u001b[0m\u001b[1;33m(\u001b[0m\u001b[1;34mb'\\x28\\x02'\u001b[0m\u001b[1;33m[\u001b[0m\u001b[1;36m1\u001b[0m\u001b[1;33m]\u001b[0m\u001b[1;33m,\u001b[0m \u001b[1;34m'big'\u001b[0m\u001b[1;33m,\u001b[0m \u001b[0msigned\u001b[0m\u001b[1;33m=\u001b[0m\u001b[1;32mFalse\u001b[0m\u001b[1;33m)\u001b[0m\u001b[1;33m\u001b[0m\u001b[0m\n\u001b[0m\u001b[0;32m      3\u001b[0m \u001b[1;31m# print(d[1])\u001b[0m\u001b[1;33m\u001b[0m\u001b[1;33m\u001b[0m\u001b[0m\n\u001b[0;32m      4\u001b[0m \u001b[1;31m# d = bytes(d)\u001b[0m\u001b[1;33m\u001b[0m\u001b[1;33m\u001b[0m\u001b[0m\n\u001b[0;32m      5\u001b[0m \u001b[1;31m# oct(int(d))\u001b[0m\u001b[1;33m\u001b[0m\u001b[1;33m\u001b[0m\u001b[0m\n",
      "\u001b[1;31mTypeError\u001b[0m: cannot convert 'int' object to bytes"
     ],
     "ename": "TypeError",
     "evalue": "cannot convert 'int' object to bytes",
     "output_type": "error"
    }
   ],
   "source": [
    "d = bytearray(b'\\x28\\x56')\n",
    "int.from_bytes(b'\\x28\\x02'[1:5], 'big', signed=False)\n",
    "# print(d[1])\n",
    "# d = bytes(d)\n",
    "# oct(int(d))\n"
   ],
   "metadata": {
    "collapsed": false,
    "pycharm": {
     "name": "#%%\n",
     "is_executing": false
    }
   }
  },
  {
   "cell_type": "code",
   "execution_count": 43,
   "outputs": [
    {
     "name": "stdout",
     "text": [
      "b'hello' ('127.0.0.1', 61475)\n"
     ],
     "output_type": "stream"
    }
   ],
   "source": [
    "def s():\n",
    "    s = socket.socket(socket.AF_INET, socket.SOCK_DGRAM)\n",
    "    s.bind(('127.0.0.4', 4545))\n",
    "    s.settimeout(1.0)\n",
    "    try:\n",
    "        a, o = s.recvfrom(1024)\n",
    "        print(a, o)\n",
    "    except socket.timeout:\n",
    "        print('ehllo')\n",
    "def d():\n",
    "    s = socket.socket(socket.AF_INET, socket.SOCK_DGRAM)\n",
    "    s.sendto(bytearray('hello', ENCODE_MODE, ERROR_ENCODING),('127.0.0.4', 4545))\n",
    "\n",
    "t1= threading.Thread(target=s)\n",
    "t2 = threading.Thread(target=d)\n",
    "t1.start()\n",
    "t2.start()"
   ],
   "metadata": {
    "collapsed": false,
    "pycharm": {
     "name": "#%%\n",
     "is_executing": false
    }
   }
  },
  {
   "cell_type": "code",
   "execution_count": 42,
   "outputs": [
    {
     "data": {
      "text/plain": "'x'"
     },
     "metadata": {},
     "output_type": "execute_result",
     "execution_count": 42
    }
   ],
   "source": [
    "# len('192.169.453.114, 7879, 198.155.514.451, 7878'+\n",
    "#     '192.169.453.114, 7879, 198.155.514.451, 7878')\n",
    "b'\\x78'.decode(ENCODE_MODE,ERROR_ENCODING)"
   ],
   "metadata": {
    "collapsed": false,
    "pycharm": {
     "name": "#%%\n",
     "is_executing": false
    }
   }
  },
  {
   "cell_type": "code",
   "execution_count": null,
   "outputs": [],
   "source": [
    "\n"
   ],
   "metadata": {
    "collapsed": false,
    "pycharm": {
     "name": "#%%\n"
    }
   }
  }
 ],
 "metadata": {
  "language_info": {
   "codemirror_mode": {
    "name": "ipython",
    "version": 2
   },
   "file_extension": ".py",
   "mimetype": "text/x-python",
   "name": "python",
   "nbconvert_exporter": "python",
   "pygments_lexer": "ipython2",
   "version": "2.7.6"
  },
  "kernelspec": {
   "name": "python3",
   "language": "python",
   "display_name": "Python 3"
  },
  "pycharm": {
   "stem_cell": {
    "cell_type": "raw",
    "source": [],
    "metadata": {
     "collapsed": false
    }
   }
  }
 },
 "nbformat": 4,
 "nbformat_minor": 0
}