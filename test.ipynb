{
 "cells": [
  {
   "cell_type": "code",
   "execution_count": 1,
   "outputs": [],
   "source": [
    "class Node:\n",
    "    \n",
    "    node_list = list()\n",
    "    file = None\n",
    "    \n",
    "    \n",
    "    def __init__(self, name=None, ip=None, ty=None):\n",
    "        self.name = name\n",
    "        self.ip = ip\n",
    "        self.type = ty\n",
    "    def start_tcp_server(self):\n",
    "        pass\n",
    "    def start_udp_server(self):\n",
    "        pass\n",
    "    \n",
    "    def __download_file(self, name:str):\n",
    "        pass\n",
    "    def __create_get_message(self):\n",
    "        pass\n",
    "    def __create_discovery_message(self):\n",
    "        pass\n",
    "    def __create_response_message(self):\n",
    "        pass\n",
    "    def __send_discover(self, discovery):\n",
    "        pass\n",
    "    def __update_list(self, node_list):\n",
    "        pass\n",
    "    def __serialize_data(self, s_date):\n",
    "        pass\n",
    "    def __deserialize_data(self, s_data):\n",
    "        pass\n",
    "    def __handle_response(self):\n",
    "        pass\n",
    "    def __save_file(self):\n",
    "        pass\n",
    "    def __chose_best(self):\n",
    "        pass\n",
    "    def __reassemble_file(self):\n",
    "        pass\n",
    "    "
   ],
   "metadata": {
    "collapsed": false,
    "pycharm": {
     "name": "#%%\n",
     "is_executing": false
    }
   }
  },
  {
   "cell_type": "code",
   "execution_count": 18,
   "outputs": [
    {
     "traceback": [
      "\u001b[1;36m  File \u001b[1;32m\"<ipython-input-18-7217ed1b38e3>\"\u001b[1;36m, line \u001b[1;32m12\u001b[0m\n\u001b[1;33m    def __str__(self):\u001b[0m\n\u001b[1;37m      ^\u001b[0m\n\u001b[1;31mIndentationError\u001b[0m\u001b[1;31m:\u001b[0m expected an indented block\n"
     ],
     "ename": "IndentationError",
     "evalue": "expected an indented block (<ipython-input-18-7217ed1b38e3>, line 12)",
     "output_type": "error"
    }
   ],
   "source": [
    "class NetWolf:\n",
    "    \"\"\"\n",
    "    This is main class of NetWolf project\n",
    "    date: 6/8/2020\n",
    "    author: Amirhosein Amir Firouzkouhi ( 9528007)\n",
    "    \"\"\"\n",
    "    \n",
    "    def start(self):\n",
    "        print('NetWolf 1398-1399')\n",
    "        port = int(input('Please enter port number: '))\n",
    "        dir = input('Please enter directory of list: ')\n",
    "    def stop(self):\n",
    "        pass\n",
    "    def __start_user_command(self):\n",
    "        pass\n",
    "    def __str__(self):\n",
    "        return \"Net wolf < version 1>\"\n"
   ],
   "metadata": {
    "collapsed": false,
    "pycharm": {
     "name": "#%%\n",
     "is_executing": false
    }
   }
  },
  {
   "cell_type": "code",
   "execution_count": 2,
   "outputs": [],
   "source": [
    "import os\n",
    "def new_name_file(name:str , path:str ):\n",
    "    index = 0\n",
    "    while name in os.listdir(path):\n",
    "        index += 1\n",
    "        if index == 1:\n",
    "            dot = name.rfind('.', 0, len(name))\n",
    "            name = name[:dot] + f'({index})' + name[dot:]\n",
    "        else:\n",
    "            name = name.replace(f'({index-1})', f'({index})')\n",
    "        \n",
    "    \n",
    "    return name\n",
    "\n",
    "def separate_to_mb(data_array:bytearray):\n",
    "    mb = list()\n",
    "    mb_size = 10**6\n",
    "    while True:\n",
    "        if data_array.__len__()>= mb_size:\n",
    "            mb.append(data_array[0:mb_size])\n",
    "            data_array = data[mb_size:]\n",
    "        else:\n",
    "            mb.append(data_array)\n",
    "            break\n",
    "    return mb\n",
    "\n",
    "class File:\n",
    "    \n",
    "    def __init__(self, name=None, path=None):\n",
    "        self.name = name\n",
    "        self.path = path\n",
    "        \n",
    "    def save_data(self, data:bytearray):\n",
    "        file = self._open_file(self.name, self.path)\n",
    "        \n",
    "        file.write(data)\n",
    "        \n",
    "        self._close_file(file)\n",
    "        \n",
    "    def save_list_of_data(self, data_list):\n",
    "        file = self._open_file(self.name, self.path)\n",
    "        \n",
    "        for data in data_list:\n",
    "            file.write(data)\n",
    "        \n",
    "        self._close_file(file)\n",
    "            \n",
    "    def _close_file(self, file):\n",
    "        file.close()\n",
    "        \n",
    "    def _open_file(self, name:str, path:str):\n",
    "\n",
    "        name = new_name_file(name, path)\n",
    "        __f = open(path + '\\\\' + name, 'xb')\n",
    "                    \n",
    "        return __f\n",
    "               \n",
    "    def __str__(self):\n",
    "        pass"
   ],
   "metadata": {
    "collapsed": false,
    "pycharm": {
     "name": "#%%\n",
     "is_executing": false
    }
   }
  },
  {
   "cell_type": "code",
   "execution_count": 5,
   "outputs": [],
   "source": [
    "class Report:\n",
    "    \n",
    "    def __init__(self,name=None,path=None):\n",
    "        self.name = name\n",
    "        self.path = path\n",
    "        \n",
    "    def open_report(self):\n",
    "        pass\n",
    "    def close_report(self):\n",
    "        pass\n",
    "    def write_line(self):\n",
    "        pass\n",
    "    def erase_line(self):\n",
    "        pass"
   ],
   "metadata": {
    "collapsed": false,
    "pycharm": {
     "name": "#%%\n",
     "is_executing": false
    }
   }
  },
  {
   "cell_type": "code",
   "execution_count": 36,
   "outputs": [],
   "source": [
    "\n",
    "import threading\n",
    "import socket\n",
    "import os\n",
    "from concurrent.futures import ThreadPoolExecutor\n",
    "from math import ceil\n",
    "\n",
    "class Server(threading.Thread):\n",
    "    \n",
    "    def __init__(self):\n",
    "        threading.Thread.__init__(self)\n",
    "        \n",
    "    def run(self):\n",
    "        self.__start_server()\n",
    "    def __start_server(self):\n",
    "        raise NotImplementedError(\"Subclass must implement this abstract method\")\n",
    "    def __client_handler(self, socket_info):\n",
    "        raise NotImplementedError(\"Subclass must implement this abstract method\")\n",
    "        \n",
    "\n",
    "def get_ith_mb_from(addr, number):\n",
    "    file = open(addr, 'rb')\n",
    "\n",
    "    file.seek((10**6)*number,0)\n",
    "    temp = file.read(10**6)\n",
    "    file.close()\n",
    "    # print(temp)\n",
    "    return temp\n",
    "\n",
    "class TcpServer(Server):\n",
    "    \n",
    "    \n",
    "    __ENCODE_MODE = 'utf-8'\n",
    "    __ERROR_ENCODING = 'backslashreplace'\n",
    "    __pool = ThreadPoolExecutor(max_workers = 5)\n",
    "    __tcp_socket = None\n",
    "    \n",
    "    # its better to give it address of localhost\n",
    "    def __init__(self, path:str, addr = None, port = 0):\n",
    "        Server.__init__(self)\n",
    "        self.path = path\n",
    "        self.host_info = (addr, port)\n",
    "        \n",
    "    def run(self):\n",
    "        self.__start_server()\n",
    "    \n",
    "    def __start_server(self):\n",
    "        # get local address\n",
    "        addr = self.host_info[0]\n",
    "        port = self.host_info[1]\n",
    "        if addr is None :\n",
    "            addr = socket.gethostbyname(socket.gethostname())\n",
    "        \n",
    "        # create a socket\n",
    "        self.__tcp_socket = socket.socket(socket.AF_INET, socket.SOCK_STREAM)\n",
    "        \n",
    "        # bind a socket to the address and random port\n",
    "        self.__tcp_socket.bind((addr, port))\n",
    "        \n",
    "        # save socket information\n",
    "        self.host_info = self.__tcp_socket.getsockname()\n",
    "        \n",
    "        # start to listening\n",
    "        self.__tcp_socket.listen(2)\n",
    "        \n",
    "        while True:\n",
    "            temp_socket = self.__tcp_socket.accept()\n",
    "            self.__pool.submit(self.__client_handler, temp_socket[0])\n",
    "        \n",
    "            \n",
    "    def __client_handler(self, skt:socket.socket):\n",
    "        siz = int.from_bytes(skt.recv(1), 'big', signed=False)\n",
    "        cmd_name = skt.recv(siz)\n",
    "        cmd_name = cmd_name.decode(self.__ENCODE_MODE, self.__ERROR_ENCODING)\n",
    "        \n",
    "        if cmd_name == 'GET':\n",
    "            name = self.__find_file(skt)\n",
    "            \n",
    "            if not name is None :\n",
    "                self.__send(skt, name)\n",
    "            else:\n",
    "                self.__response_not_found(skt,name)\n",
    "        \n",
    "    def __send(self, skt:socket.socket, name:str):\n",
    "        file = open(name, 'rb')\n",
    "        number = ceil(file.seek(0,2)/(10**6))\n",
    "        file.close()\n",
    "        \n",
    "        for part in range(number):\n",
    "            # use get_ith_mb_from function\n",
    "            data_file = get_ith_mb_from(name, number)\n",
    "            \n",
    "            resp = ResponseData(data_file)\n",
    "            skt.send(resp.get_data())\n",
    "            \n",
    "        # send final response\n",
    "        resp_done = bytearray(f'done {name}', self.__ENCODE_MODE, self.__ERROR_ENCODING)\n",
    "        skt.send(ResponseData(resp_done).get_data())\n",
    "    \n",
    "    def __find_file(self, skt:socket.socket):\n",
    "        siz = int.from_bytes(skt.recv(1), 'big', signed=False)\n",
    "        name = skt.recv(siz).decode(self.__ENCODE_MODE, self.__ERROR_ENCODING)\n",
    "        \n",
    "        if name in os.listdir(self.path):\n",
    "            return self.path + '\\\\' + name\n",
    "        else:\n",
    "            return None\n",
    "        \n",
    "    def __response_not_found(self, skt:socket.socket, name):\n",
    "        data_res = bytearray(f'not found {name}',self.__ENCODE_MODE, self.__ERROR_ENCODING)\n",
    "        resp_nf = ResponseData(data_res)\n",
    "        skt.send(resp_nf)\n"
   ],
   "metadata": {
    "collapsed": false,
    "pycharm": {
     "name": "#%%\n",
     "is_executing": false
    }
   }
  },
  {
   "cell_type": "code",
   "execution_count": null,
   "outputs": [],
   "source": [
    "import threading\n",
    "import socket\n",
    "import os\n",
    "from concurrent.futures import ThreadPoolExecutor\n",
    "from math import ceil\n",
    "\n",
    "class UdpServer(Server):\n",
    "    \n",
    "    def __init__(self, path:str, addr = None, port = 0):\n",
    "        Server.__init__(self)\n",
    "        self.path = path\n",
    "        self.host_info = (addr, port)\n",
    "    \n",
    "    def run(self):\n",
    "        self.__start_server()\n",
    "        \n",
    "    def start(self):\n",
    "        addr = self.host_info[0]\n",
    "        port = self.host_info[1]\n",
    "        if addr is None :\n",
    "            addr = socket.gethostbyname(socket.gethostname())\n",
    "        \n",
    "        self.__udp_socket = socket.socket(socket.AF_INET, socket.SOCK_DGRAM)\n",
    "        self.host_info = self.__udp_socket.getsockname()\n",
    "        \n",
    "        self.__udp_socket.bind((addr, port))\n",
    "        \n",
    "        while True:\n",
    "            siz, dest = self.__udp_socket.recvfrom(1)\n",
    "        \n",
    "        \n",
    "    def __client_handler(self, socket = None):\n",
    "        pass    "
   ],
   "metadata": {
    "collapsed": false,
    "pycharm": {
     "name": "#%%\n"
    }
   }
  },
  {
   "cell_type": "code",
   "execution_count": 4,
   "outputs": [
    {
     "name": "stdout",
     "text": [
      "7902383\n"
     ],
     "output_type": "stream"
    },
    {
     "traceback": [
      "\u001b[1;31m---------------------------------------------------------------------------\u001b[0m",
      "\u001b[1;31mTypeError\u001b[0m                                 Traceback (most recent call last)",
      "\u001b[1;32m<ipython-input-4-3c15f3c06a8c>\u001b[0m in \u001b[0;36m<module>\u001b[1;34m\u001b[0m\n\u001b[0;32m     11\u001b[0m     \u001b[0mi\u001b[0m\u001b[1;33m.\u001b[0m\u001b[0mclose\u001b[0m\u001b[1;33m(\u001b[0m\u001b[1;33m)\u001b[0m\u001b[1;33m\u001b[0m\u001b[0m\n\u001b[0;32m     12\u001b[0m \u001b[1;33m\u001b[0m\u001b[0m\n\u001b[1;32m---> 13\u001b[1;33m \u001b[0mtest_File_class\u001b[0m\u001b[1;33m(\u001b[0m\u001b[1;33m)\u001b[0m\u001b[1;33m\u001b[0m\u001b[0m\n\u001b[0m",
      "\u001b[1;32m<ipython-input-4-3c15f3c06a8c>\u001b[0m in \u001b[0;36mtest_File_class\u001b[1;34m()\u001b[0m\n\u001b[0;32m      7\u001b[0m     \u001b[0mmb\u001b[0m \u001b[1;33m=\u001b[0m \u001b[0mseparate_to_mb\u001b[0m\u001b[1;33m(\u001b[0m\u001b[0mtemp\u001b[0m\u001b[1;33m)\u001b[0m\u001b[1;33m\u001b[0m\u001b[0m\n\u001b[0;32m      8\u001b[0m \u001b[1;33m\u001b[0m\u001b[0m\n\u001b[1;32m----> 9\u001b[1;33m     \u001b[0mf\u001b[0m\u001b[1;33m.\u001b[0m\u001b[0msave_list_of_data\u001b[0m\u001b[1;33m(\u001b[0m\u001b[0mmb\u001b[0m\u001b[1;33m)\u001b[0m\u001b[1;33m\u001b[0m\u001b[0m\n\u001b[0m\u001b[0;32m     10\u001b[0m \u001b[1;33m\u001b[0m\u001b[0m\n\u001b[0;32m     11\u001b[0m     \u001b[0mi\u001b[0m\u001b[1;33m.\u001b[0m\u001b[0mclose\u001b[0m\u001b[1;33m(\u001b[0m\u001b[1;33m)\u001b[0m\u001b[1;33m\u001b[0m\u001b[0m\n",
      "\u001b[1;32m<ipython-input-3-7373562f2dc5>\u001b[0m in \u001b[0;36msave_list_of_data\u001b[1;34m(self, data_list)\u001b[0m\n\u001b[0;32m     39\u001b[0m \u001b[1;33m\u001b[0m\u001b[0m\n\u001b[0;32m     40\u001b[0m     \u001b[1;32mdef\u001b[0m \u001b[0msave_list_of_data\u001b[0m\u001b[1;33m(\u001b[0m\u001b[0mself\u001b[0m\u001b[1;33m,\u001b[0m \u001b[0mdata_list\u001b[0m\u001b[1;33m)\u001b[0m\u001b[1;33m:\u001b[0m\u001b[1;33m\u001b[0m\u001b[0m\n\u001b[1;32m---> 41\u001b[1;33m         \u001b[0mfile\u001b[0m \u001b[1;33m=\u001b[0m \u001b[0mself\u001b[0m\u001b[1;33m.\u001b[0m\u001b[0m_open_file\u001b[0m\u001b[1;33m(\u001b[0m\u001b[0mself\u001b[0m\u001b[1;33m.\u001b[0m\u001b[0mname\u001b[0m\u001b[1;33m,\u001b[0m \u001b[0mself\u001b[0m\u001b[1;33m.\u001b[0m\u001b[0mpath\u001b[0m\u001b[1;33m)\u001b[0m\u001b[1;33m\u001b[0m\u001b[0m\n\u001b[0m\u001b[0;32m     42\u001b[0m \u001b[1;33m\u001b[0m\u001b[0m\n\u001b[0;32m     43\u001b[0m         \u001b[1;32mfor\u001b[0m \u001b[0mdata\u001b[0m \u001b[1;32min\u001b[0m \u001b[0mdata_list\u001b[0m\u001b[1;33m:\u001b[0m\u001b[1;33m\u001b[0m\u001b[0m\n",
      "\u001b[1;32m<ipython-input-3-7373562f2dc5>\u001b[0m in \u001b[0;36m_open_file\u001b[1;34m(self, name, path)\u001b[0m\n\u001b[0;32m     51\u001b[0m     \u001b[1;32mdef\u001b[0m \u001b[0m_open_file\u001b[0m\u001b[1;33m(\u001b[0m\u001b[0mself\u001b[0m\u001b[1;33m,\u001b[0m \u001b[0mname\u001b[0m\u001b[1;33m:\u001b[0m\u001b[0mstr\u001b[0m\u001b[1;33m,\u001b[0m \u001b[0mpath\u001b[0m\u001b[1;33m)\u001b[0m\u001b[1;33m:\u001b[0m\u001b[1;33m\u001b[0m\u001b[0m\n\u001b[0;32m     52\u001b[0m \u001b[1;33m\u001b[0m\u001b[0m\n\u001b[1;32m---> 53\u001b[1;33m         \u001b[0mname\u001b[0m \u001b[1;33m=\u001b[0m \u001b[0mnew_name_file\u001b[0m\u001b[1;33m(\u001b[0m\u001b[0mname\u001b[0m\u001b[1;33m,\u001b[0m \u001b[0mpath\u001b[0m\u001b[1;33m)\u001b[0m\u001b[1;33m\u001b[0m\u001b[0m\n\u001b[0m\u001b[0;32m     54\u001b[0m         \u001b[0m__f\u001b[0m \u001b[1;33m=\u001b[0m \u001b[0mopen\u001b[0m\u001b[1;33m(\u001b[0m\u001b[0mpath\u001b[0m \u001b[1;33m+\u001b[0m \u001b[1;34m'\\\\'\u001b[0m \u001b[1;33m+\u001b[0m \u001b[0mname\u001b[0m\u001b[1;33m,\u001b[0m \u001b[1;34m'xb'\u001b[0m\u001b[1;33m)\u001b[0m\u001b[1;33m\u001b[0m\u001b[0m\n\u001b[0;32m     55\u001b[0m \u001b[1;33m\u001b[0m\u001b[0m\n",
      "\u001b[1;32m<ipython-input-3-7373562f2dc5>\u001b[0m in \u001b[0;36mnew_name_file\u001b[1;34m(name, path)\u001b[0m\n\u001b[0;32m      2\u001b[0m \u001b[1;32mdef\u001b[0m \u001b[0mnew_name_file\u001b[0m\u001b[1;33m(\u001b[0m\u001b[0mname\u001b[0m\u001b[1;33m:\u001b[0m\u001b[0mstr\u001b[0m \u001b[1;33m,\u001b[0m \u001b[0mpath\u001b[0m\u001b[1;33m:\u001b[0m\u001b[0mstr\u001b[0m \u001b[1;33m)\u001b[0m\u001b[1;33m:\u001b[0m\u001b[1;33m\u001b[0m\u001b[0m\n\u001b[0;32m      3\u001b[0m     \u001b[0mindex\u001b[0m \u001b[1;33m=\u001b[0m \u001b[1;36m0\u001b[0m\u001b[1;33m\u001b[0m\u001b[0m\n\u001b[1;32m----> 4\u001b[1;33m     \u001b[1;32mwhile\u001b[0m \u001b[0mname\u001b[0m \u001b[1;32min\u001b[0m \u001b[0mos\u001b[0m\u001b[1;33m.\u001b[0m\u001b[0mlistdir\u001b[0m\u001b[1;33m(\u001b[0m\u001b[0mpath\u001b[0m\u001b[1;33m)\u001b[0m\u001b[1;33m:\u001b[0m\u001b[1;33m\u001b[0m\u001b[0m\n\u001b[0m\u001b[0;32m      5\u001b[0m         \u001b[0mindex\u001b[0m \u001b[1;33m+=\u001b[0m \u001b[1;36m1\u001b[0m\u001b[1;33m\u001b[0m\u001b[0m\n\u001b[0;32m      6\u001b[0m         \u001b[1;32mif\u001b[0m \u001b[0mindex\u001b[0m \u001b[1;33m==\u001b[0m \u001b[1;36m1\u001b[0m\u001b[1;33m:\u001b[0m\u001b[1;33m\u001b[0m\u001b[0m\n",
      "\u001b[1;31mTypeError\u001b[0m: listdir: path should be string, bytes, os.PathLike or None, not module"
     ],
     "ename": "TypeError",
     "evalue": "listdir: path should be string, bytes, os.PathLike or None, not module",
     "output_type": "error"
    }
   ],
   "source": [
    "def test_File_class():\n",
    "    addr = 'League Of Legends - Awaken Ft. Valerie Broussard (Official Audio) - .mp3'\n",
    "    f = File('lg.mp3', 'F:\\\\Amir\\\\University\\\\Computer Network\\\\Project\\\\NetWolf')\n",
    "    i = open(addr, 'rb')\n",
    "    temp = bytearray(i.read(-1))\n",
    "    print(temp.__len__())\n",
    "    mb = separate_to_mb(temp)\n",
    "    \n",
    "    f.save_list_of_data(mb)\n",
    "    \n",
    "    i.close()\n",
    "\n",
    "test_File_class()"
   ],
   "metadata": {
    "collapsed": false,
    "pycharm": {
     "name": "#%%\n",
     "is_executing": false
    }
   }
  },
  {
   "cell_type": "code",
   "execution_count": 47,
   "outputs": [
    {
     "name": "stdout",
     "text": [
      "bytearray(b'gethello')\n2\n"
     ],
     "output_type": "stream"
    }
   ],
   "source": [
    "b = bytearray('hello', 'utf-8')\n",
    "a = bytearray('get', 'utf-8')\n",
    "c = a+b\n",
    "print(c)\n",
    "print(b'\\x1b\\x51'.__len__())"
   ],
   "metadata": {
    "collapsed": false,
    "pycharm": {
     "name": "#%%\n",
     "is_executing": false
    }
   }
  },
  {
   "cell_type": "code",
   "execution_count": 90,
   "outputs": [],
   "source": [
    "\n",
    "class Message:\n",
    "    \n",
    "    command = '<command>'\n",
    "    def __init__(self,data:bytearray):\n",
    "        self.data = data\n",
    "        \n",
    "    def get_data(self):\n",
    "        raise NotImplementedError(\"Subclass must implement this abstract method\")   \n",
    "    def __str__(self):\n",
    "        temp = bytearray(self.command, 'utf-8', 'backslashreplace')\n",
    "        return 'size: {sc}\\n' \\\n",
    "               'command: {c}\\n' \\\n",
    "               'size of data: {sd}\\n' \\\n",
    "               'data: {d}'.format(sc=len(temp), c=self.command, sd=len(self.data), d=self.data)\n",
    "    \n",
    "\n",
    "class GetData(Message):\n",
    "    \n",
    "    def __init__(self,data):\n",
    "        Message.__init__(self, data)\n",
    "        self.command = 'GET'\n",
    "        \n",
    "    def get_data(self):\n",
    "        \"\"\"\n",
    "        size - command - size of data - data\n",
    "        1B   -   sizeB -      2B      - size of data B\n",
    "        \"\"\"\n",
    "        temp = bytearray(self.command,'utf-8', 'backslashreplace')\n",
    "        packet = bytearray([len(temp)]) + temp\n",
    "        packet += len(self.data)\n",
    "        packet += self.data\n",
    "        \n",
    "        return packet\n",
    "\n",
    "\n",
    "class ResponseData(Message):\n",
    "    \n",
    "    def __init__(self,data):\n",
    "        Message.__init__(self, data)\n",
    "        self.command = 'RSP'\n",
    "        \n",
    "    def get_data(self):\n",
    "        \"\"\"\n",
    "        size - command - size of data - data\n",
    "        1B   -   sizeB -      2B      - size of data B\n",
    "        \"\"\"\n",
    "        temp = bytearray(self.command,'utf-8', 'backslashreplace')\n",
    "        packet = bytearray([len(temp)]) + temp\n",
    "        packet += len(self.data)\n",
    "        packet += self.data\n",
    "        \n",
    "        return packet\n",
    "\n",
    "class DirectoryData(Message):\n",
    "    \n",
    "    def __init__(self,data):\n",
    "        Message.__init__(self, data)\n",
    "        self.command = 'DIR'\n",
    "        \n",
    "    def get_data(self):\n",
    "        \"\"\"\n",
    "        size - command - size of data - data\n",
    "        1B   -   sizeB -      2B      - size of data B\n",
    "        \"\"\"\n",
    "        temp = bytearray(self.command,'utf-8', 'backslashreplace')\n",
    "        packet = bytearray([len(temp)]) + temp\n",
    "        packet += len(self.data)\n",
    "        packet += self.data\n",
    "        \n",
    "        return packet  \n",
    "                \n",
    "        "
   ],
   "metadata": {
    "collapsed": false,
    "pycharm": {
     "name": "#%%\n",
     "is_executing": false
    }
   }
  },
  {
   "cell_type": "code",
   "execution_count": 50,
   "outputs": [
    {
     "name": "stdout",
     "text": [
      "16\n"
     ],
     "output_type": "stream"
    }
   ],
   "source": [
    "msgFromServer       = \"Hello UDP Client\"\n",
    "\n",
    "bytesToSend         = str.encode(msgFromServer)\n",
    "print(bytesToSend.__len__())"
   ],
   "metadata": {
    "collapsed": false,
    "pycharm": {
     "name": "#%%\n",
     "is_executing": false
    }
   }
  },
  {
   "cell_type": "code",
   "execution_count": 56,
   "outputs": [
    {
     "data": {
      "text/plain": "b'\\xff'"
     },
     "metadata": {},
     "output_type": "execute_result",
     "execution_count": 56
    }
   ],
   "source": [
    "int.to_bytes(255,1,'big')"
   ],
   "metadata": {
    "collapsed": false,
    "pycharm": {
     "name": "#%%\n",
     "is_executing": false
    }
   }
  },
  {
   "cell_type": "code",
   "execution_count": 59,
   "outputs": [
    {
     "name": "stdout",
     "text": [
      "Help on method_descriptor:\n\nrecvfrom(...)\n    recvfrom(buffersize[, flags]) -> (data, address info)\n    \n    Like recv(buffersize, flags) but also return the sender's address info.\n\n"
     ],
     "output_type": "stream"
    }
   ],
   "source": [
    "import socket\n",
    "help(socket.socket.recvfrom)"
   ],
   "metadata": {
    "collapsed": false,
    "pycharm": {
     "name": "#%%\n",
     "is_executing": false
    }
   }
  },
  {
   "cell_type": "code",
   "execution_count": 64,
   "outputs": [
    {
     "name": "stdout",
     "text": [
      "3\n"
     ],
     "output_type": "stream"
    }
   ],
   "source": [
    "command = 'GET'\n",
    "command_size = command.encode('utf-8', 'backslashreplace') .__len__()\n",
    "print(command_size)"
   ],
   "metadata": {
    "collapsed": false,
    "pycharm": {
     "name": "#%%\n",
     "is_executing": false
    }
   }
  },
  {
   "cell_type": "code",
   "execution_count": 69,
   "outputs": [
    {
     "data": {
      "text/plain": "3"
     },
     "metadata": {},
     "output_type": "execute_result",
     "execution_count": 69
    }
   ],
   "source": [],
   "metadata": {
    "collapsed": false,
    "pycharm": {
     "name": "#%%\n",
     "is_executing": false
    }
   }
  },
  {
   "cell_type": "code",
   "execution_count": 97,
   "outputs": [
    {
     "name": "stdout",
     "text": [
      "size: 3\ncommand: GET\nsize of data: 5\ndata: bytearray(b'hello')\n\nsize: 3\ncommand: DIR\nsize of data: 5\ndata: bytearray(b'hello')\n\nsize: 3\ncommand: RSP\nsize of data: 5\ndata: bytearray(b'hello')\n\n"
     ],
     "output_type": "stream"
    }
   ],
   "source": [
    "data = bytearray('hello','utf-8', 'backslashreplace')\n",
    "a = GetData(data)\n",
    "b = DirectoryData(data)\n",
    "c = ResponseData(data)\n",
    "print(a)\n",
    "print(b)\n",
    "print(c)\n",
    "\n",
    "\n"
   ],
   "metadata": {
    "collapsed": false,
    "pycharm": {
     "name": "#%%\n",
     "is_executing": false
    }
   }
  },
  {
   "cell_type": "code",
   "execution_count": 96,
   "outputs": [
    {
     "data": {
      "text/plain": "1024"
     },
     "metadata": {},
     "output_type": "execute_result",
     "execution_count": 96
    }
   ],
   "source": [
    "int.to_bytes(1024, 2, 'big', signed=False)\n",
    "int.from_bytes(b'\\x04\\x00','big', signed=False)"
   ],
   "metadata": {
    "collapsed": false,
    "pycharm": {
     "name": "#%%\n",
     "is_executing": false
    }
   }
  },
  {
   "cell_type": "code",
   "execution_count": 101,
   "outputs": [
    {
     "name": "stdout",
     "text": [
      "Help on method_descriptor:\n\ngetsockname(...)\n    getsockname() -> address info\n    \n    Return the address of the local endpoint.  For IP sockets, the address\n    info is a pair (hostaddr, port).\n\n"
     ],
     "output_type": "stream"
    }
   ],
   "source": [
    "help(socket.socket.getsockname)\n",
    "\n",
    "\n",
    "\n"
   ],
   "metadata": {
    "collapsed": false,
    "pycharm": {
     "name": "#%%\n",
     "is_executing": false
    }
   }
  },
  {
   "cell_type": "code",
   "execution_count": 108,
   "outputs": [],
   "source": [
    "from random import shuffle\n",
    "f = open('F:\\\\textfile.txt', 'wt')\n",
    "for i in range(1000):\n",
    "    f.write(f'012345678'*10 + '\\n')\n",
    "    \n",
    "f.close()"
   ],
   "metadata": {
    "collapsed": false,
    "pycharm": {
     "name": "#%%\n",
     "is_executing": false
    }
   }
  },
  {
   "cell_type": "code",
   "execution_count": 113,
   "outputs": [
    {
     "name": "stdout",
     "text": [
      "[8, 7, 4, 6, 3, 5, 2, 0, 9, 1]\n"
     ],
     "output_type": "stream"
    },
    {
     "data": {
      "text/plain": "\"<class 'list'>\""
     },
     "metadata": {},
     "output_type": "execute_result",
     "execution_count": 113
    }
   ],
   "source": [
    "from random import shuffle\n",
    "l = list(range(0,10))\n",
    "shuffle(l)\n",
    "print(l)\n",
    "str(list)\n",
    "\n",
    "\n"
   ],
   "metadata": {
    "collapsed": false,
    "pycharm": {
     "name": "#%%\n",
     "is_executing": false
    }
   }
  },
  {
   "cell_type": "code",
   "execution_count": 5,
   "outputs": [
    {
     "name": "stdout",
     "text": [
      "DESKTOP-C1DQMIK\n192.168.56.1\n\nWelcome to Python 3.7's help utility!\n\nIf this is your first time using Python, you should definitely check out\nthe tutorial on the Internet at https://docs.python.org/3.7/tutorial/.\n\nEnter the name of any module, keyword, or topic to get help on writing\nPython programs and using Python modules.  To quit this help utility and\nreturn to the interpreter, just type \"quit\".\n\nTo get a list of available modules, keywords, symbols, or topics, type\n\"modules\", \"keywords\", \"symbols\", or \"topics\".  Each module also comes\nwith a one-line summary of what it does; to list the modules whose name\nor summary contain a given string such as \"spam\", type \"modules spam\".\n\n",
      "\nYou are now leaving help and returning to the Python interpreter.\nIf you want to ask for help on a particular object directly from the\ninterpreter, you can type \"help(object)\".  Executing \"help('string')\"\nhas the same effect as typing a particular string at the help> prompt.\n"
     ],
     "output_type": "stream"
    }
   ],
   "source": [
    "import socket\n",
    "print(socket.gethostname())\n",
    "print(socket.gethostbyname(socket.gethostname()))\n",
    "help()"
   ],
   "metadata": {
    "collapsed": false,
    "pycharm": {
     "name": "#%%\n",
     "is_executing": false
    }
   }
  },
  {
   "cell_type": "code",
   "execution_count": 37,
   "outputs": [
    {
     "name": "stderr",
     "text": [
      "IOPub data rate exceeded.\nThe notebook server will temporarily stop sending output\nto the client in order to avoid crashing it.\nTo change this limit, set the config variable\n`--NotebookApp.iopub_data_rate_limit`.\n\nCurrent values:\nNotebookApp.iopub_data_rate_limit=1000000.0 (bytes/sec)\nNotebookApp.rate_limit_window=3.0 (secs)\n\n"
     ],
     "output_type": "stream"
    }
   ],
   "source": [
    "import os\n",
    "from math import ceil\n",
    "# print(os.listdir())\n",
    "addrr='lg.mp3'\n",
    "m = open(addrr, 'rb')\n",
    "n = ceil(m.seek(0,2)/(10**6))\n",
    "f = File('part.mp3','F:\\\\Amir\\\\University\\\\Computer Network\\\\Project\\\\NetWolf')\n",
    "for i in range(n):\n",
    "    b = get_ith_mb_from(addrr, i)\n",
    "    f.save_data(b)\n",
    "\n",
    "m.close()\n",
    "\n",
    "\n"
   ],
   "metadata": {
    "collapsed": false,
    "pycharm": {
     "name": "#%%\n",
     "is_executing": false
    }
   }
  },
  {
   "cell_type": "code",
   "execution_count": 31,
   "outputs": [
    {
     "name": "stdout",
     "text": [
      "F:\\Amir\\University\\Computer Network\\Project\\NetWolf\n"
     ],
     "output_type": "stream"
    }
   ],
   "source": [
    "import os\n",
    "print(os.getcwd())"
   ],
   "metadata": {
    "collapsed": false,
    "pycharm": {
     "name": "#%%\n",
     "is_executing": false
    }
   }
  },
  {
   "cell_type": "code",
   "execution_count": null,
   "outputs": [
    {
     "name": "stdout",
     "text": [
      "Help on built-in function read:\n\nread(...) method of _io.BufferedWriter instance\n    Read and return up to n bytes.\n    \n    If the argument is omitted, None, or negative, reads and\n    returns all data until EOF.\n    \n    If the argument is positive, and the underlying raw stream is\n    not 'interactive', multiple raw reads may be issued to satisfy\n    the byte count (unless EOF is reached first).  But for\n    interactive raw streams (as well as sockets and pipes), at most\n    one raw read will be issued, and a short result does not imply\n    that EOF is imminent.\n    \n    Returns an empty bytes object on EOF.\n    \n    Returns None if the underlying raw stream was open in non-blocking\n    mode and no data is available at the moment.\n\n"
     ],
     "output_type": "stream"
    }
   ],
   "source": [
    "l = os.listdir('F:\\\\Amir\\\\University\\\\Computer Network\\\\Project\\\\NetWolf')\n",
    "f = open('music1.mp3','wb')\n",
    "for i in range(8):\n",
    "    if f'part({i}).mp3' in l:\n",
    "        t = open(f'part({i}).mp3', 'rb')\n",
    "        f.write(t.read())\n",
    "        t.close()\n",
    "        print(i)\n",
    "\n",
    "f.close()\n"
   ],
   "metadata": {
    "collapsed": false,
    "pycharm": {
     "name": "#%%\n",
     "is_executing": true
    }
   }
  }
 ],
 "metadata": {
  "language_info": {
   "codemirror_mode": {
    "name": "ipython",
    "version": 2
   },
   "file_extension": ".py",
   "mimetype": "text/x-python",
   "name": "python",
   "nbconvert_exporter": "python",
   "pygments_lexer": "ipython2",
   "version": "2.7.6"
  },
  "kernelspec": {
   "name": "python3",
   "language": "python",
   "display_name": "Python 3"
  },
  "pycharm": {
   "stem_cell": {
    "cell_type": "raw",
    "source": [],
    "metadata": {
     "collapsed": false
    }
   }
  }
 },
 "nbformat": 4,
 "nbformat_minor": 0
}