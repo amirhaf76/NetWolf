{
 "cells": [
  {
   "cell_type": "code",
   "execution_count": 3,
   "outputs": [],
   "source": [
    "class Node:\n",
    "    \n",
    "    node_list = list()\n",
    "    file = None\n",
    "    \n",
    "    \n",
    "    def __init__(self, name=None, ip=None, ty=None):\n",
    "        self.name = name\n",
    "        self.ip = ip\n",
    "        self.type = ty\n",
    "    def start_tcp_server(self):\n",
    "        pass\n",
    "    def start_udp_server(self):\n",
    "        pass\n",
    "    \n",
    "    def __download_file(self, name:str):\n",
    "        pass\n",
    "    def __create_get_message(self):\n",
    "        pass\n",
    "    def __create_discovery_message(self):\n",
    "        pass\n",
    "    def __create_response_message(self):\n",
    "        pass\n",
    "    def __send_discover(self, discovery):\n",
    "        pass\n",
    "    def __update_list(self, node_list):\n",
    "        pass\n",
    "    def __serialize_data(self, data):\n",
    "        pass\n",
    "    def __deserialize_data(self, data):\n",
    "        pass\n",
    "    def __handle_response(self):\n",
    "        pass\n",
    "    def __save_file(self):\n",
    "        pass\n",
    "    def __chose_best(self):\n",
    "        pass\n",
    "    def __reassemble_file(self):\n",
    "        pass\n",
    "    "
   ],
   "metadata": {
    "collapsed": false,
    "pycharm": {
     "name": "#%%\n",
     "is_executing": false
    }
   }
  },
  {
   "cell_type": "code",
   "execution_count": 18,
   "outputs": [
    {
     "traceback": [
      "\u001b[1;36m  File \u001b[1;32m\"<ipython-input-18-7217ed1b38e3>\"\u001b[1;36m, line \u001b[1;32m12\u001b[0m\n\u001b[1;33m    def __str__(self):\u001b[0m\n\u001b[1;37m      ^\u001b[0m\n\u001b[1;31mIndentationError\u001b[0m\u001b[1;31m:\u001b[0m expected an indented block\n"
     ],
     "ename": "IndentationError",
     "evalue": "expected an indented block (<ipython-input-18-7217ed1b38e3>, line 12)",
     "output_type": "error"
    }
   ],
   "source": [
    "class NetWolf:\n",
    "    \"\"\"\n",
    "    This is main class of NetWolf project\n",
    "    date: 6/8/2020\n",
    "    author: Amirhosein Amir Firouzkouhi ( 9528007)\n",
    "    \"\"\"\n",
    "    \n",
    "    def start(self):\n",
    "        print('NetWolf 1398-1399')\n",
    "        port = int(input('Please enter port number: '))\n",
    "        dir = input('Please enter directory of list: ')\n",
    "    def stop(self):\n",
    "        pass\n",
    "    def __start_user_command(self):\n",
    "        pass\n",
    "    def __str__(self):\n",
    "        return \"Net wolf < version 1>\"\n"
   ],
   "metadata": {
    "collapsed": false,
    "pycharm": {
     "name": "#%%\n",
     "is_executing": false
    }
   }
  },
  {
   "cell_type": "code",
   "execution_count": 28,
   "outputs": [],
   "source": [
    "import os\n",
    "def new_name_file(name:str , path:str ):\n",
    "    index = 0\n",
    "    while name in os.listdir(path):\n",
    "        index += 1\n",
    "        if index == 1:\n",
    "            dot = name.rfind('.', 0, len(name))\n",
    "            name = name[:dot] + f'({index})' + name[dot:]\n",
    "        else:\n",
    "            name = name.replace(f'({index-1})', f'({index})')\n",
    "        \n",
    "    \n",
    "    return name\n",
    "class File:\n",
    "    \n",
    "    def __init__(self, name=None, path=None):\n",
    "        self.name = name\n",
    "        self.path = path\n",
    "        \n",
    "    def save_data(self, data:bytearray):\n",
    "        file = self._open_file(self.name, self.path)\n",
    "        \n",
    "        file.write(data)\n",
    "        \n",
    "        self._close_file(file)\n",
    "        \n",
    "    def save_list_of_data(self, data_list):\n",
    "        file = self._open_file(self.name, self.path)\n",
    "        \n",
    "        for data in data_list:\n",
    "            file.write(data)\n",
    "        \n",
    "        self._close_file(file)\n",
    "            \n",
    "    def _close_file(self, file):\n",
    "        file.close()\n",
    "        \n",
    "    def _open_file(self, name:str, path):\n",
    "\n",
    "        name = new_name_file(name, path)\n",
    "        __f = open(path + '\\\\' + name, 'xb')\n",
    "                    \n",
    "        return __f\n",
    "               \n",
    "    def __str__(self):\n",
    "        pass"
   ],
   "metadata": {
    "collapsed": false,
    "pycharm": {
     "name": "#%%\n",
     "is_executing": false
    }
   }
  },
  {
   "cell_type": "code",
   "execution_count": 5,
   "outputs": [],
   "source": [
    "class Report:\n",
    "    \n",
    "    def __init__(self,name=None,path=None):\n",
    "        self.name = name\n",
    "        self.path = path\n",
    "        \n",
    "    def open_report(self):\n",
    "        pass\n",
    "    def close_report(self):\n",
    "        pass\n",
    "    def write_line(self):\n",
    "        pass\n",
    "    def erase_line(self):\n",
    "        pass"
   ],
   "metadata": {
    "collapsed": false,
    "pycharm": {
     "name": "#%%\n",
     "is_executing": false
    }
   }
  },
  {
   "cell_type": "code",
   "execution_count": 94,
   "outputs": [],
   "source": [
    "from concurrent.futures import ThreadPoolExecutor\n",
    "import threading\n",
    "\n",
    "class Server(threading.Thread):\n",
    "    \n",
    "    def __init__(self):\n",
    "        threading.Thread.__init__(self)\n",
    "        \n",
    "    def run(self):\n",
    "        self.__start_server()\n",
    "    def __start_server(self):\n",
    "        raise NotImplementedError(\"Subclass must implement this abstract method\")\n",
    "    def __client_handler(self, socket_info):\n",
    "        raise NotImplementedError(\"Subclass must implement this abstract method\")\n",
    "        "
   ],
   "metadata": {
    "collapsed": false,
    "pycharm": {
     "name": "#%%\n",
     "is_executing": false
    }
   }
  },
  {
   "cell_type": "code",
   "execution_count": 96,
   "outputs": [
    {
     "traceback": [
      "\u001b[1;36m  File \u001b[1;32m\"<ipython-input-96-6477dba0d7a1>\"\u001b[1;36m, line \u001b[1;32m44\u001b[0m\n\u001b[1;33m    def __send(self):\u001b[0m\n\u001b[1;37m                     ^\u001b[0m\n\u001b[1;31mSyntaxError\u001b[0m\u001b[1;31m:\u001b[0m unexpected EOF while parsing\n"
     ],
     "ename": "SyntaxError",
     "evalue": "unexpected EOF while parsing (<ipython-input-96-6477dba0d7a1>, line 44)",
     "output_type": "error"
    }
   ],
   "source": [
    "import socket\n",
    "import os\n",
    "from concurrent.futures import ThreadPoolExecutor\n",
    "\n",
    "class TcpServer(Server):\n",
    "    \n",
    "    __COMMAND_SIZE = 16\n",
    "    __ENCODE_MODE = 'utf-8'\n",
    "    __ERROR_ENCODING = 'backslachreplace'\n",
    "    __pool = ThreadPoolExecutor(max_workers = 5)\n",
    "    __tcp_socket = None\n",
    "    \n",
    "    def __init__(self, path:str, addr = None, port = 0):\n",
    "        Server.__init__(self)\n",
    "        self.path = path\n",
    "        self.host_info = (addr, port)\n",
    "    \n",
    "    def __start_server(self):\n",
    "        # get local address\n",
    "        addr = self.host_info[0]\n",
    "        port = self.host_info[1]\n",
    "        if addr is None :\n",
    "            addr = socket.gethostbyname(socket.gethostname())\n",
    "        \n",
    "        # create a socket\n",
    "        self.__tcp_socket = socket.socket(socket.AF_INET, socket.SOCK_STREAM)\n",
    "        \n",
    "        # bind a socket to the address and random port\n",
    "        self.__tcp_socket.bind((addr, port))\n",
    "        \n",
    "        # save socket information\n",
    "        self.host_info = self.__tcp_socket.getsockname()\n",
    "        self.__tcp_socket.listen(2)\n",
    "        \n",
    "        while True:\n",
    "            temp_socket = self.__tcp_socket.accept()\n",
    "            self.__pool.submit(self.__client_handler, temp_socket[0])\n",
    "        \n",
    "            \n",
    "    def __client_handler(self, socket_info:socket.socket):\n",
    "        cmd_name = socket_info.recv(self.__COMMAND_SIZE)\n",
    "        cmd_name = cmd_name.decode(self.__ENCODE_MODE, self.__ERROR_ENCODING)\n",
    "        \n",
    "        if cmd_name[:3] == 'GET':\n",
    "            self.__send(cmd_name, cmd_name[3:])\n",
    "        \n",
    "    def __send(self, socket_info:socket.socket, name:str):\n",
    "        \"\"\"\n",
    "        send file to client\n",
    "        :param name: name of file\n",
    "        :return: boolean\n",
    "        \"\"\"\n",
    "        pass\n",
    "            \n",
    "        \n",
    "        "
   ],
   "metadata": {
    "collapsed": false,
    "pycharm": {
     "name": "#%%\n",
     "is_executing": false
    }
   }
  },
  {
   "cell_type": "code",
   "execution_count": 13,
   "outputs": [],
   "source": [
    "class UdpServer(Server):\n",
    "    \n",
    "    def __init__(self, path:str, addr = None, port = 0):\n",
    "        Server.__init__(self)\n",
    "        self.path = path\n",
    "        self.host_info = (addr, port)\n",
    "        \n",
    "    def start(self):\n",
    "        addr = self.host_info[0]\n",
    "        port = self.host_info[1]\n",
    "        if addr is None :\n",
    "            addr = socket.gethostbyname(socket.gethostname())\n",
    "        \n",
    "        self.__udp_socket = socket.socket(socket.AF_INET, socket.SOCK_DGRAM)\n",
    "        self.host_info =\n",
    "        \n",
    "        \n",
    "    def __client_handler(self, socket = None):\n",
    "        pass    "
   ],
   "metadata": {
    "collapsed": false,
    "pycharm": {
     "name": "#%%\n",
     "is_executing": false
    }
   }
  },
  {
   "cell_type": "code",
   "execution_count": 26,
   "outputs": [],
   "source": [
    "def test_File_class():\n",
    "    addr = 'League Of Legends - Awaken Ft. Valerie Broussard (Official Audio) - .mp3'\n",
    "    f = File('lg.mp3', 'F:\\\\Amir\\\\University\\\\Computer Network\\\\Project\\\\NetWolf')\n",
    "    i = open(addr, 'rb')\n",
    "    temp = bytearray(i.read(-1))\n",
    "    print(temp.__len__())\n",
    "    mb = separate_to_mb(temp)\n",
    "    \n",
    "    f.save_list_of_data(mb)\n",
    "    \n",
    "    i.close()\n",
    "\n",
    "def separate_to_mb(data:bytearray):\n",
    "    mb = list()\n",
    "    MB_SIZE = 1000000\n",
    "    while True:\n",
    "        if data.__len__()>= MB_SIZE:\n",
    "            mb.append(data[0:MB_SIZE])\n",
    "            data = data[MB_SIZE:]\n",
    "        else:\n",
    "            mb.append(data)\n",
    "            break\n",
    "    return mb"
   ],
   "metadata": {
    "collapsed": false,
    "pycharm": {
     "name": "#%%\n",
     "is_executing": false
    }
   }
  },
  {
   "cell_type": "code",
   "execution_count": 131,
   "outputs": [
    {
     "name": "stdout",
     "text": [
      "shutdown(flag)\n\nShut down the reading side of the socket (flag == SHUT_RD), the writing side\nof the socket (flag == SHUT_WR), or both ends (flag == SHUT_RDWR).\n"
     ],
     "output_type": "stream"
    }
   ],
   "source": [
    "print(socket.socket.shutdown.__doc__)\n",
    "\n"
   ],
   "metadata": {
    "collapsed": false,
    "pycharm": {
     "name": "#%%\n",
     "is_executing": false
    }
   }
  },
  {
   "cell_type": "code",
   "execution_count": 132,
   "outputs": [
    {
     "name": "stdout",
     "text": [
      "Help on method_descriptor:\n\nrecv(...)\n    recv(buffersize[, flags]) -> data\n    \n    Receive up to buffersize bytes from the socket.  For the optional flags\n    argument, see the Unix manual.  When no data is available, block until\n    at least one byte is available or until the remote end is closed.  When\n    the remote end is closed and all data is read, return the empty string.\n\n"
     ],
     "output_type": "stream"
    }
   ],
   "source": [
    "\n",
    "\n"
   ],
   "metadata": {
    "collapsed": false,
    "pycharm": {
     "name": "#%%\n",
     "is_executing": false
    }
   }
  }
 ],
 "metadata": {
  "language_info": {
   "codemirror_mode": {
    "name": "ipython",
    "version": 2
   },
   "file_extension": ".py",
   "mimetype": "text/x-python",
   "name": "python",
   "nbconvert_exporter": "python",
   "pygments_lexer": "ipython2",
   "version": "2.7.6"
  },
  "kernelspec": {
   "name": "python3",
   "language": "python",
   "display_name": "Python 3"
  },
  "pycharm": {
   "stem_cell": {
    "cell_type": "raw",
    "source": [],
    "metadata": {
     "collapsed": false
    }
   }
  }
 },
 "nbformat": 4,
 "nbformat_minor": 0
}