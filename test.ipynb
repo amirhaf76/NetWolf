{
 "cells": [
  {
   "cell_type": "code",
   "execution_count": 2,
   "metadata": {
    "collapsed": true,
    "pycharm": {
     "is_executing": false
    }
   },
   "outputs": [],
   "source": [
    "class Node:\n",
    "    \n",
    "    node_list = list()\n",
    "    file = None\n",
    "    \n",
    "    \n",
    "    def __init__(self, name=None, ip=None, ty=None):\n",
    "        self.name = name\n",
    "        self.ip = ip\n",
    "        self.type = ty\n",
    "    def start_tcp_server(self):\n",
    "        pass\n",
    "    def start_udp_server(self):\n",
    "        pass\n",
    "    \n",
    "    def __download_file(self, name:str):\n",
    "        pass\n",
    "    def __create_get_message(self):\n",
    "        pass\n",
    "    def __create_discovery_message(self):\n",
    "        pass\n",
    "    def __create_response_message(self):\n",
    "        pass\n",
    "    def __send_discover(self, discovery):\n",
    "        pass\n",
    "    def __update_list(self, node_list):\n",
    "        pass\n",
    "    def __serialize_data(self, data):\n",
    "        pass\n",
    "    def __deserialize_data(self, data):\n",
    "        pass\n",
    "    def __handle_response(self):\n",
    "        pass\n",
    "    def __save_file(self):\n",
    "        pass\n",
    "    def __chose_best(self):\n",
    "        pass\n",
    "    def __reassemble_file(self):\n",
    "        pass\n",
    "    "
   ]
  },
  {
   "cell_type": "code",
   "execution_count": 3,
   "outputs": [],
   "source": [
    "class NetWolf:\n",
    "    \"\"\"\n",
    "    This is main class of NetWolf project\n",
    "    date: 6/8/2020\n",
    "    author: Amirhosein Amir Firouzkouhi ( 9528007)\n",
    "    \"\"\"\n",
    "    \n",
    "    \n",
    "    def start(self):\n",
    "        pass\n",
    "    def stop(self):\n",
    "        pass\n",
    "    def __start_user_command(self):\n",
    "        pass\n",
    "    def __str__(self):\n",
    "        return \"Net wolf < version 1>\"\n"
   ],
   "metadata": {
    "collapsed": false,
    "pycharm": {
     "name": "#%%\n",
     "is_executing": false
    }
   }
  },
  {
   "cell_type": "code",
   "execution_count": 4,
   "outputs": [],
   "source": [
    "class File:\n",
    "    \n",
    "    def __init__(self, name=None, path=None):\n",
    "        self.name = name\n",
    "        self.path = path\n",
    "    \n",
    "    def save_data(self, data):\n",
    "        pass\n",
    "    def close_file(self):\n",
    "        pass\n",
    "    def __str__(self):\n",
    "        pass"
   ],
   "metadata": {
    "collapsed": false,
    "pycharm": {
     "name": "#%%\n",
     "is_executing": false
    }
   }
  },
  {
   "cell_type": "code",
   "execution_count": 5,
   "outputs": [],
   "source": [
    "class Report:\n",
    "    \n",
    "    def __init__(self,name=None,path=None):\n",
    "        self.name = name\n",
    "        self.path = path\n",
    "        \n",
    "    def open_report(self):\n",
    "        pass\n",
    "    def close_report(self):\n",
    "        pass\n",
    "    def write_line(self):\n",
    "        pass\n",
    "    def erase_line(self):\n",
    "        pass"
   ],
   "metadata": {
    "collapsed": false,
    "pycharm": {
     "name": "#%%\n",
     "is_executing": false
    }
   }
  },
  {
   "cell_type": "code",
   "execution_count": 6,
   "outputs": [],
   "source": [
    "class Server:\n",
    "    \n",
    "    def __init__(self, port_number = None, ts = None):\n",
    "        self.port_number = port_number\n",
    "        self.ts = ts\n",
    "    def start(self):\n",
    "        raise NotImplementedError(\"Subclass must implement this abstract method\")\n",
    "    def stop(self):\n",
    "        raise NotImplementedError(\"Subclass must implement this abstract method\")\n",
    "    def __client_handler(self, socket = None):\n",
    "        raise NotImplementedError(\"Subclass must implement this abstract method\")\n",
    "    def __get_thread_service(self, ts = None, func = None):\n",
    "        pass\n",
    "        "
   ],
   "metadata": {
    "collapsed": false,
    "pycharm": {
     "name": "#%%\n",
     "is_executing": false
    }
   }
  },
  {
   "cell_type": "code",
   "execution_count": 7,
   "outputs": [],
   "source": [
    "class TcpServer(Server):\n",
    "    \n",
    "    def start(self):\n",
    "        pass\n",
    "    def stop(self):\n",
    "        pass\n",
    "    def __client_handler(self, socket = None):\n",
    "        pass"
   ],
   "metadata": {
    "collapsed": false,
    "pycharm": {
     "name": "#%%\n",
     "is_executing": false
    }
   }
  },
  {
   "cell_type": "code",
   "execution_count": 13,
   "outputs": [],
   "source": [
    "class UdpServer(Server):\n",
    "    \n",
    "    def start(self):\n",
    "        pass\n",
    "    def stop(self):\n",
    "        pass\n",
    "    def __client_handler(self, socket = None):\n",
    "        pass    "
   ],
   "metadata": {
    "collapsed": false,
    "pycharm": {
     "name": "#%%\n",
     "is_executing": false
    }
   }
  },
  {
   "cell_type": "code",
   "execution_count": 24,
   "outputs": [],
   "source": [
    "from concurrent.futures import ThreadPoolExecutor\n",
    "from time import sleep\n",
    "import _thread\n",
    "\n",
    "\n",
    "\n",
    "    \n",
    "    \n",
    "    \n",
    "\n"
   ],
   "metadata": {
    "collapsed": false,
    "pycharm": {
     "name": "#%%\n",
     "is_executing": false
    }
   }
  }
 ],
 "metadata": {
  "language_info": {
   "codemirror_mode": {
    "name": "ipython",
    "version": 2
   },
   "file_extension": ".py",
   "mimetype": "text/x-python",
   "name": "python",
   "nbconvert_exporter": "python",
   "pygments_lexer": "ipython2",
   "version": "2.7.6"
  },
  "kernelspec": {
   "name": "python3",
   "language": "python",
   "display_name": "Python 3"
  },
  "pycharm": {
   "stem_cell": {
    "cell_type": "raw",
    "source": [],
    "metadata": {
     "collapsed": false
    }
   }
  }
 },
 "nbformat": 4,
 "nbformat_minor": 0
}