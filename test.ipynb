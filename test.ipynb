{
 "cells": [
  {
   "cell_type": "code",
   "execution_count": 41,
   "outputs": [
    {
     "name": "stdout",
     "text": [
      "import library\n"
     ],
     "output_type": "stream"
    }
   ],
   "source": [
    "import netwolf_lib as nfb\n",
    "import os\n",
    "import socket\n",
    "from math import ceil, log2\n",
    "import threading\n",
    "from time import sleep\n",
    "from concurrent.futures import ThreadPoolExecutor\n",
    "print('import library')"
   ],
   "metadata": {
    "collapsed": false,
    "pycharm": {
     "name": "#%%\n",
     "is_executing": false
    }
   }
  },
  {
   "cell_type": "code",
   "execution_count": 17,
   "outputs": [
    {
     "name": "stdout",
     "text": [
      "status_area\nfor quiting type 'quit'\n\nasfasdfas\n"
     ],
     "output_type": "stream"
    }
   ],
   "source": [
    "from IPython.display import clear_output\n",
    "status_area = 'status_area\\nfor quiting type \\'quit\\'\\nd'\n",
    "\n",
    "\n",
    "prompt = 'start'\n",
    "while True:\n",
    "    print(status_area)\n",
    "    print(prompt)\n",
    "    sleep(0.2)\n",
    "    prompt = input('line:')\n",
    "    if prompt == 'quit':\n",
    "        break\n",
    "    clear_output()\n",
    "    "
   ],
   "metadata": {
    "collapsed": false,
    "pycharm": {
     "name": "#%%\n",
     "is_executing": false
    }
   }
  },
  {
   "cell_type": "code",
   "execution_count": 19,
   "outputs": [
    {
     "name": "stdout",
     "text": [
      "NetWolf 1398-1399\n",
      "565\n",
      "F:\\Amir\\University\\Computer Network\\Project\\NetWolf\\Test\\TestNode\\Node_node2\n"
     ],
     "output_type": "stream"
    }
   ],
   "source": [
    "print('NetWolf 1398-1399')\n",
    "port = int(input('Please enter port number: '))\n",
    "print(port)\n",
    "dir = input('Please enter directory of list: ')\n",
    "print(dir)"
   ],
   "metadata": {
    "collapsed": false,
    "pycharm": {
     "name": "#%%\n",
     "is_executing": false
    }
   }
  },
  {
   "cell_type": "code",
   "execution_count": 36,
   "outputs": [
    {
     "name": "stdout",
     "text": [
      "NetWolf 1398-1399\n",
      "invalid literal for int() with base 10: 'jkkj'\n",
      "invalid literal for int() with base 10: 'kj'\n"
     ],
     "output_type": "stream"
    }
   ],
   "source": [
    "print('NetWolf 1398-1399')\n",
    "while True:\n",
    "    try:\n",
    "        port = int(input('Please enter port number: '))\n",
    "        break\n",
    "    except ValueError as value:\n",
    "        print(value)\n",
    "        continue\n",
    "err = ''\n",
    "while True:\n",
    "    try:\n",
    "        dir = input(f'{err}Please enter directory of list: ')\n",
    "        if os.path.exists(dir):\n",
    "            break\n",
    "        else:\n",
    "            err = '[Your path is not correct] '\n",
    "    except ValueError as value:\n",
    "        print(value)\n",
    "        continue"
   ],
   "metadata": {
    "collapsed": false,
    "pycharm": {
     "name": "#%%\n",
     "is_executing": false
    }
   }
  },
  {
   "cell_type": "code",
   "execution_count": 43,
   "outputs": [
    {
     "name": "stdout",
     "text": [
      "Help on built-in function chdir in module nt:\n\nchdir(path)\n    Change the current working directory to the specified path.\n    \n    path may always be specified as a string.\n    On some platforms, path may also be specified as an open file descriptor.\n      If this functionality is unavailable, using it raises an exception.\n\n"
     ],
     "output_type": "stream"
    }
   ],
   "source": [
    "import os\n",
    "help(os.chdir)"
   ],
   "metadata": {
    "collapsed": false,
    "pycharm": {
     "name": "#%%\n",
     "is_executing": false
    }
   }
  },
  {
   "cell_type": "code",
   "execution_count": 46,
   "outputs": [
    {
     "name": "stdout",
     "text": [
      "NetWolf 1398-1399\n",
      "7\n78\n"
     ],
     "output_type": "stream"
    }
   ],
   "source": [
    "n = nfb.NetWolf()\n",
    "print(n.port)\n",
    "print(n.dir)\n",
    "\n"
   ],
   "metadata": {
    "collapsed": false,
    "pycharm": {
     "name": "#%%\n",
     "is_executing": false
    }
   }
  }
 ],
 "metadata": {
  "language_info": {
   "codemirror_mode": {
    "name": "ipython",
    "version": 2
   },
   "file_extension": ".py",
   "mimetype": "text/x-python",
   "name": "python",
   "nbconvert_exporter": "python",
   "pygments_lexer": "ipython2",
   "version": "2.7.6"
  },
  "kernelspec": {
   "name": "python3",
   "language": "python",
   "display_name": "Python 3"
  },
  "pycharm": {
   "stem_cell": {
    "cell_type": "raw",
    "source": [],
    "metadata": {
     "collapsed": false
    }
   }
  }
 },
 "nbformat": 4,
 "nbformat_minor": 0
}