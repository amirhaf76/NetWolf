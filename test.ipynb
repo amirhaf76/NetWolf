{
 "cells": [
  {
   "cell_type": "code",
   "execution_count": 43,
   "outputs": [
    {
     "name": "stdout",
     "text": [
      "import library\n"
     ],
     "output_type": "stream"
    }
   ],
   "source": [
    "import netwolf_lib as nfb\n",
    "import os\n",
    "import socket\n",
    "from math import ceil\n",
    "import threading\n",
    "from concurrent.futures import ThreadPoolExecutor\n",
    "print('import library')"
   ],
   "metadata": {
    "collapsed": false,
    "pycharm": {
     "name": "#%%\n",
     "is_executing": false
    }
   }
  },
  {
   "cell_type": "code",
   "execution_count": 30,
   "outputs": [],
   "source": [
    "ENCODE_MODE = 'utf-8'\n",
    "ERROR_ENCODING = 'backslashreplace'\n",
    "\n"
   ],
   "metadata": {
    "collapsed": false,
    "pycharm": {
     "name": "#%%\n",
     "is_executing": false
    }
   }
  },
  {
   "cell_type": "code",
   "execution_count": 32,
   "outputs": [],
   "source": [
    "def extract_directory_message(dir_mes: bytes):\n",
    "\n",
    "    str_meg = dir_mes.decode(ENCODE_MODE, ERROR_ENCODING)\n",
    "    str_list = str_meg.split('|')\n",
    "    res = []\n",
    "    for t in str_list:\n",
    "        temp_list = t.split(',')\n",
    "        if len(temp_list) == 2:\n",
    "            temp_tuple = (temp_list[0].strip(' \\''),\n",
    "                          int(temp_list[1]))\n",
    "            res.append(temp_tuple)\n",
    "\n",
    "        elif len(temp_list) == 4:\n",
    "            temp_tuple = (temp_list[0].strip(' \\''), int(temp_list[1]),\n",
    "                          temp_list[2].strip(' \\''), int(temp_list[3]))\n",
    "            res.append(temp_tuple)\n",
    "        else:\n",
    "            print(\"not found\")\n",
    "\n",
    "    return res\n"
   ],
   "metadata": {
    "collapsed": false,
    "pycharm": {
     "name": "#%%\n",
     "is_executing": false
    }
   }
  },
  {
   "cell_type": "code",
   "execution_count": 52,
   "outputs": [
    {
     "data": {
      "text/plain": "int"
     },
     "metadata": {},
     "output_type": "execute_result",
     "execution_count": 52
    }
   ],
   "source": [
    "type((343))"
   ],
   "metadata": {
    "collapsed": false,
    "pycharm": {
     "name": "#%%\n",
     "is_executing": false
    }
   }
  },
  {
   "cell_type": "code",
   "execution_count": null,
   "outputs": [],
   "source": [
    "\n"
   ],
   "metadata": {
    "collapsed": false,
    "pycharm": {
     "name": "#%%\n"
    }
   }
  }
 ],
 "metadata": {
  "language_info": {
   "codemirror_mode": {
    "name": "ipython",
    "version": 2
   },
   "file_extension": ".py",
   "mimetype": "text/x-python",
   "name": "python",
   "nbconvert_exporter": "python",
   "pygments_lexer": "ipython2",
   "version": "2.7.6"
  },
  "kernelspec": {
   "name": "python3",
   "language": "python",
   "display_name": "Python 3"
  },
  "pycharm": {
   "stem_cell": {
    "cell_type": "raw",
    "source": [],
    "metadata": {
     "collapsed": false
    }
   }
  }
 },
 "nbformat": 4,
 "nbformat_minor": 0
}