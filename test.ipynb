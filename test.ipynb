{
 "cells": [
  {
   "cell_type": "code",
   "execution_count": 3,
   "outputs": [],
   "source": [
    "class Node:\n",
    "    \n",
    "    node_list = list()\n",
    "    file = None\n",
    "    \n",
    "    \n",
    "    def __init__(self, name=None, ip=None, ty=None):\n",
    "        self.name = name\n",
    "        self.ip = ip\n",
    "        self.type = ty\n",
    "    def start_tcp_server(self):\n",
    "        pass\n",
    "    def start_udp_server(self):\n",
    "        pass\n",
    "    \n",
    "    def __download_file(self, name:str):\n",
    "        pass\n",
    "    def __create_get_message(self):\n",
    "        pass\n",
    "    def __create_discovery_message(self):\n",
    "        pass\n",
    "    def __create_response_message(self):\n",
    "        pass\n",
    "    def __send_discover(self, discovery):\n",
    "        pass\n",
    "    def __update_list(self, node_list):\n",
    "        pass\n",
    "    def __serialize_data(self, data):\n",
    "        pass\n",
    "    def __deserialize_data(self, data):\n",
    "        pass\n",
    "    def __handle_response(self):\n",
    "        pass\n",
    "    def __save_file(self):\n",
    "        pass\n",
    "    def __chose_best(self):\n",
    "        pass\n",
    "    def __reassemble_file(self):\n",
    "        pass\n",
    "    "
   ],
   "metadata": {
    "collapsed": false,
    "pycharm": {
     "name": "#%%\n",
     "is_executing": false
    }
   }
  },
  {
   "cell_type": "code",
   "execution_count": 18,
   "outputs": [
    {
     "traceback": [
      "\u001b[1;36m  File \u001b[1;32m\"<ipython-input-18-7217ed1b38e3>\"\u001b[1;36m, line \u001b[1;32m12\u001b[0m\n\u001b[1;33m    def __str__(self):\u001b[0m\n\u001b[1;37m      ^\u001b[0m\n\u001b[1;31mIndentationError\u001b[0m\u001b[1;31m:\u001b[0m expected an indented block\n"
     ],
     "ename": "IndentationError",
     "evalue": "expected an indented block (<ipython-input-18-7217ed1b38e3>, line 12)",
     "output_type": "error"
    }
   ],
   "source": [
    "class NetWolf:\n",
    "    \"\"\"\n",
    "    This is main class of NetWolf project\n",
    "    date: 6/8/2020\n",
    "    author: Amirhosein Amir Firouzkouhi ( 9528007)\n",
    "    \"\"\"\n",
    "    \n",
    "    def start(self):\n",
    "        print('NetWolf 1398-1399')\n",
    "        port = int(input('Please enter port number: '))\n",
    "        dir = input('Please enter directory of list: ')\n",
    "    def stop(self):\n",
    "        pass\n",
    "    def __start_user_command(self):\n",
    "        pass\n",
    "    def __str__(self):\n",
    "        return \"Net wolf < version 1>\"\n"
   ],
   "metadata": {
    "collapsed": false,
    "pycharm": {
     "name": "#%%\n",
     "is_executing": false
    }
   }
  },
  {
   "cell_type": "code",
   "execution_count": 28,
   "outputs": [],
   "source": [
    "import os\n",
    "def new_name_file(name:str , path:str ):\n",
    "    index = 0\n",
    "    while name in os.listdir(path):\n",
    "        index += 1\n",
    "        if index == 1:\n",
    "            dot = name.rfind('.', 0, len(name))\n",
    "            name = name[:dot] + f'({index})' + name[dot:]\n",
    "        else:\n",
    "            name = name.replace(f'({index-1})', f'({index})')\n",
    "        \n",
    "    \n",
    "    return name\n",
    "class File:\n",
    "    \n",
    "    def __init__(self, name=None, path=None):\n",
    "        self.name = name\n",
    "        self.path = path\n",
    "        \n",
    "    def save_data(self, data:bytearray):\n",
    "        file = self._open_file(self.name, self.path)\n",
    "        \n",
    "        file.write(data)\n",
    "        \n",
    "        self._close_file(file)\n",
    "        \n",
    "    def save_list_of_data(self, data_list):\n",
    "        file = self._open_file(self.name, self.path)\n",
    "        \n",
    "        for data in data_list:\n",
    "            file.write(data)\n",
    "        \n",
    "        self._close_file(file)\n",
    "            \n",
    "    def _close_file(self, file):\n",
    "        file.close()\n",
    "        \n",
    "    def _open_file(self, name:str, path):\n",
    "\n",
    "        name = new_name_file(name, path)\n",
    "        __f = open(path + '\\\\' + name, 'xb')\n",
    "                    \n",
    "        return __f\n",
    "               \n",
    "    def __str__(self):\n",
    "        pass"
   ],
   "metadata": {
    "collapsed": false,
    "pycharm": {
     "name": "#%%\n",
     "is_executing": false
    }
   }
  },
  {
   "cell_type": "code",
   "execution_count": 5,
   "outputs": [],
   "source": [
    "class Report:\n",
    "    \n",
    "    def __init__(self,name=None,path=None):\n",
    "        self.name = name\n",
    "        self.path = path\n",
    "        \n",
    "    def open_report(self):\n",
    "        pass\n",
    "    def close_report(self):\n",
    "        pass\n",
    "    def write_line(self):\n",
    "        pass\n",
    "    def erase_line(self):\n",
    "        pass"
   ],
   "metadata": {
    "collapsed": false,
    "pycharm": {
     "name": "#%%\n",
     "is_executing": false
    }
   }
  },
  {
   "cell_type": "code",
   "execution_count": 6,
   "outputs": [],
   "source": [
    "class Server:\n",
    "    \n",
    "    def __init__(self, port_number = None, ts = None):\n",
    "        self.port_number = port_number\n",
    "        self.ts = ts\n",
    "    def start(self):\n",
    "        raise NotImplementedError(\"Subclass must implement this abstract method\")\n",
    "    def stop(self):\n",
    "        raise NotImplementedError(\"Subclass must implement this abstract method\")\n",
    "    def __client_handler(self, socket = None):\n",
    "        raise NotImplementedError(\"Subclass must implement this abstract method\")\n",
    "    def __get_thread_service(self, ts = None, func = None):\n",
    "        pass\n",
    "        "
   ],
   "metadata": {
    "collapsed": false,
    "pycharm": {
     "name": "#%%\n",
     "is_executing": false
    }
   }
  },
  {
   "cell_type": "code",
   "execution_count": 7,
   "outputs": [],
   "source": [
    "class TcpServer(Server):\n",
    "    \n",
    "    def start(self):\n",
    "        pass\n",
    "    def stop(self):\n",
    "        pass\n",
    "    def __client_handler(self, socket = None):\n",
    "        pass"
   ],
   "metadata": {
    "collapsed": false,
    "pycharm": {
     "name": "#%%\n",
     "is_executing": false
    }
   }
  },
  {
   "cell_type": "code",
   "execution_count": 13,
   "outputs": [],
   "source": [
    "class UdpServer(Server):\n",
    "    \n",
    "    def start(self):\n",
    "        pass\n",
    "    def stop(self):\n",
    "        pass\n",
    "    def __client_handler(self, socket = None):\n",
    "        pass    "
   ],
   "metadata": {
    "collapsed": false,
    "pycharm": {
     "name": "#%%\n",
     "is_executing": false
    }
   }
  },
  {
   "cell_type": "code",
   "execution_count": 2,
   "outputs": [],
   "source": [
    "from concurrent.futures import ThreadPoolExecutor\n",
    "from time import sleep\n",
    "import _thread\n"
   ],
   "metadata": {
    "collapsed": false,
    "pycharm": {
     "name": "#%%\n",
     "is_executing": false
    }
   }
  },
  {
   "cell_type": "code",
   "execution_count": 26,
   "outputs": [],
   "source": [
    "def test_File_class():\n",
    "    addr = 'League Of Legends - Awaken Ft. Valerie Broussard (Official Audio) - .mp3'\n",
    "    f = File('lg.mp3', 'F:\\\\Amir\\\\University\\\\Computer Network\\\\Project\\\\NetWolf')\n",
    "    i = open(addr, 'rb')\n",
    "    temp = bytearray(i.read(-1))\n",
    "    print(temp.__len__())\n",
    "    mb = separate_to_mb(temp)\n",
    "    \n",
    "    f.save_list_of_data(mb)\n",
    "    \n",
    "    i.close()\n",
    "\n",
    "def separate_to_mb(data:bytearray):\n",
    "    mb = list()\n",
    "    MB_SIZE = 1000000\n",
    "    while True:\n",
    "        if data.__len__()>= MB_SIZE:\n",
    "            mb.append(data[0:MB_SIZE])\n",
    "            data = data[MB_SIZE:]\n",
    "        else:\n",
    "            mb.append(data)\n",
    "            break\n",
    "    return mb"
   ],
   "metadata": {
    "collapsed": false,
    "pycharm": {
     "name": "#%%\n",
     "is_executing": false
    }
   }
  },
  {
   "cell_type": "code",
   "execution_count": 2,
   "outputs": [],
   "source": [
    "import socket\n"
   ],
   "metadata": {
    "collapsed": false,
    "pycharm": {
     "name": "#%%\n",
     "is_executing": false
    }
   }
  },
  {
   "cell_type": "code",
   "execution_count": null,
   "outputs": [
    {
     "name": "stdout",
     "text": [
      "server is on\n"
     ],
     "output_type": "stream"
    }
   ],
   "source": [
    "import socket\n",
    "def ser():\n",
    "    addr = socket.gethostbyname(socket.gethostname())\n",
    "    port = 20005\n",
    "    \n",
    "    host_information = (addr, port)\n",
    "    \n",
    "    s = socket.socket(socket.AF_INET, socket.SOCK_DGRAM)\n",
    "    \n",
    "    s.bind(host_information)\n",
    "    while True:\n",
    "        print('server is on')\n",
    "        data, ad = s.recvfrom(1024)\n",
    "        print('message{}'.format(data))\n",
    "        print('addr{}'.format(ad))\n",
    "        if data == 'exit':\n",
    "            break\n",
    "ser()            \n",
    "        "
   ],
   "metadata": {
    "collapsed": false,
    "pycharm": {
     "name": "#%%\n",
     "is_executing": true
    }
   }
  },
  {
   "cell_type": "code",
   "execution_count": null,
   "outputs": [],
   "source": [
    "def cli():\n",
    "    addr = socket.gethostbyname(socket.gethostname())\n",
    "    port = 20005\n",
    "    \n",
    "    host_information = (addr, port)\n",
    "    client = socket.socket(socket.AF_INET, socket.SOCK_DGRAM)\n",
    "    meg = \"hello server\".encode()\n",
    "    print('send')\n",
    "    client.sendto(meg, host_information)\n"
   ],
   "metadata": {
    "collapsed": false,
    "pycharm": {
     "name": "#%%\n",
     "is_executing": true
    }
   }
  },
  {
   "cell_type": "code",
   "execution_count": 29,
   "outputs": [
    {
     "name": "stdout",
     "text": [
      "hello hi\n3\n"
     ],
     "output_type": "stream"
    }
   ],
   "source": [
    "import threading\n",
    "from time import sleep\n",
    "def test_print(a,i):\n",
    "    sleep(i)\n",
    "    print('hello hi')\n",
    "    print(a)\n",
    "    return \n",
    "t1 = threading.Thread(target=test_print,args=(1,2,))\n",
    "t2 = threading.Thread(target=test_print,args=(2,1,))\n",
    "t3 = threading.Thread(target=test_print,args=(3,0,))\n",
    "t1.start()\n",
    "t2.start()\n",
    "t3.start()\n"
   ],
   "metadata": {
    "collapsed": false,
    "pycharm": {
     "name": "#%%\n",
     "is_executing": false
    }
   }
  },
  {
   "cell_type": "code",
   "execution_count": 14,
   "outputs": [
    {
     "name": "stdout",
     "text": [
      "Help on class Thread in module threading:\n\nclass Thread(builtins.object)\n |  Thread(group=None, target=None, name=None, args=(), kwargs=None, *, daemon=None)\n |  \n |  A class that represents a thread of control.\n |  \n |  This class can be safely subclassed in a limited fashion. There are two ways\n |  to specify the activity: by passing a callable object to the constructor, or\n |  by overriding the run() method in a subclass.\n |  \n |  Methods defined here:\n |  \n |  __init__(self, group=None, target=None, name=None, args=(), kwargs=None, *, daemon=None)\n |      This constructor should always be called with keyword arguments. Arguments are:\n |      \n |      *group* should be None; reserved for future extension when a ThreadGroup\n |      class is implemented.\n |      \n |      *target* is the callable object to be invoked by the run()\n |      method. Defaults to None, meaning nothing is called.\n |      \n |      *name* is the thread name. By default, a unique name is constructed of\n |      the form \"Thread-N\" where N is a small decimal number.\n |      \n |      *args* is the argument tuple for the target invocation. Defaults to ().\n |      \n |      *kwargs* is a dictionary of keyword arguments for the target\n |      invocation. Defaults to {}.\n |      \n |      If a subclass overrides the constructor, it must make sure to invoke\n |      the base class constructor (Thread.__init__()) before doing anything\n |      else to the thread.\n |  \n |  __repr__(self)\n |      Return repr(self).\n |  \n |  getName(self)\n |  \n |  isAlive = is_alive(self)\n |  \n |  isDaemon(self)\n |  \n |  is_alive(self)\n |      Return whether the thread is alive.\n |      \n |      This method returns True just before the run() method starts until just\n |      after the run() method terminates. The module function enumerate()\n |      returns a list of all alive threads.\n |  \n |  join(self, timeout=None)\n |      Wait until the thread terminates.\n |      \n |      This blocks the calling thread until the thread whose join() method is\n |      called terminates -- either normally or through an unhandled exception\n |      or until the optional timeout occurs.\n |      \n |      When the timeout argument is present and not None, it should be a\n |      floating point number specifying a timeout for the operation in seconds\n |      (or fractions thereof). As join() always returns None, you must call\n |      isAlive() after join() to decide whether a timeout happened -- if the\n |      thread is still alive, the join() call timed out.\n |      \n |      When the timeout argument is not present or None, the operation will\n |      block until the thread terminates.\n |      \n |      A thread can be join()ed many times.\n |      \n |      join() raises a RuntimeError if an attempt is made to join the current\n |      thread as that would cause a deadlock. It is also an error to join() a\n |      thread before it has been started and attempts to do so raises the same\n |      exception.\n |  \n |  run(self)\n |      Method representing the thread's activity.\n |      \n |      You may override this method in a subclass. The standard run() method\n |      invokes the callable object passed to the object's constructor as the\n |      target argument, if any, with sequential and keyword arguments taken\n |      from the args and kwargs arguments, respectively.\n |  \n |  setDaemon(self, daemonic)\n |  \n |  setName(self, name)\n |  \n |  start(self)\n |      Start the thread's activity.\n |      \n |      It must be called at most once per thread object. It arranges for the\n |      object's run() method to be invoked in a separate thread of control.\n |      \n |      This method will raise a RuntimeError if called more than once on the\n |      same thread object.\n |  \n |  ----------------------------------------------------------------------\n |  Data descriptors defined here:\n |  \n |  __dict__\n |      dictionary for instance variables (if defined)\n |  \n |  __weakref__\n |      list of weak references to the object (if defined)\n |  \n |  daemon\n |      A boolean value indicating whether this thread is a daemon thread.\n |      \n |      This must be set before start() is called, otherwise RuntimeError is\n |      raised. Its initial value is inherited from the creating thread; the\n |      main thread is not a daemon thread and therefore all threads created in\n |      the main thread default to daemon = False.\n |      \n |      The entire Python program exits when no alive non-daemon threads are\n |      left.\n |  \n |  ident\n |      Thread identifier of this thread or None if it has not been started.\n |      \n |      This is a nonzero integer. See the get_ident() function. Thread\n |      identifiers may be recycled when a thread exits and another thread is\n |      created. The identifier is available even after the thread has exited.\n |  \n |  name\n |      A string used for identification purposes only.\n |      \n |      It has no semantics. Multiple threads may be given the same name. The\n |      initial name is set by the constructor.\n\n"
     ],
     "output_type": "stream"
    }
   ],
   "source": [
    "help(threading.Thread)"
   ],
   "metadata": {
    "collapsed": false,
    "pycharm": {
     "name": "#%%\n",
     "is_executing": false
    }
   }
  },
  {
   "cell_type": "code",
   "execution_count": 31,
   "outputs": [
    {
     "name": "stdout",
     "text": [
      "Help on built-in function sleep in module time:\n\nsleep(...)\n    sleep(seconds)\n    \n    Delay execution for a given number of seconds.  The argument may be\n    a floating point number for subsecond precision.\n\n"
     ],
     "output_type": "stream"
    }
   ],
   "source": [
    "help(sleep)"
   ],
   "metadata": {
    "collapsed": false,
    "pycharm": {
     "name": "#%%\n",
     "is_executing": false
    }
   }
  },
  {
   "cell_type": "code",
   "execution_count": 34,
   "outputs": [
    {
     "name": "stdout",
     "text": [
      "Help on function submit in module concurrent.futures.thread:\n\nsubmit(self, fn, *args, **kwargs)\n    Submits a callable to be executed with the given arguments.\n    \n    Schedules the callable to be executed as fn(*args, **kwargs) and returns\n    a Future instance representing the execution of the callable.\n    \n    Returns:\n        A Future representing the given call.\n\n"
     ],
     "output_type": "stream"
    }
   ],
   "source": [
    "from concurrent.futures import ThreadPoolExecutor\n",
    "help(ThreadPoolExecutor.submit, )"
   ],
   "metadata": {
    "collapsed": false,
    "pycharm": {
     "name": "#%%\n",
     "is_executing": false
    }
   }
  },
  {
   "cell_type": "code",
   "execution_count": 2,
   "outputs": [
    {
     "name": "stdout",
     "text": [
      "hello\n"
     ],
     "output_type": "stream"
    }
   ],
   "source": [
    "print('hello')"
   ],
   "metadata": {
    "collapsed": false,
    "pycharm": {
     "name": "#%%\n",
     "is_executing": false
    }
   }
  },
  {
   "cell_type": "code",
   "execution_count": null,
   "outputs": [],
   "source": [
    "\n"
   ],
   "metadata": {
    "collapsed": false,
    "pycharm": {
     "name": "#%%\n"
    }
   }
  }
 ],
 "metadata": {
  "language_info": {
   "codemirror_mode": {
    "name": "ipython",
    "version": 2
   },
   "file_extension": ".py",
   "mimetype": "text/x-python",
   "name": "python",
   "nbconvert_exporter": "python",
   "pygments_lexer": "ipython2",
   "version": "2.7.6"
  },
  "kernelspec": {
   "name": "python3",
   "language": "python",
   "display_name": "Python 3"
  },
  "pycharm": {
   "stem_cell": {
    "cell_type": "raw",
    "source": [],
    "metadata": {
     "collapsed": false
    }
   }
  }
 },
 "nbformat": 4,
 "nbformat_minor": 0
}